{
 "cells": [
  {
   "metadata": {},
   "cell_type": "markdown",
   "source": "# PyTorch WorkFlow",
   "id": "3d64d5de26fa0f9d"
  },
  {
   "metadata": {},
   "cell_type": "markdown",
   "source": [
    "**WorkFlow**\n",
    "1. Get data\n",
    "2. Build model/ Make a model\n",
    "3. Fit the model\n",
    "4. Evaluate model\n",
    "5. Save and load the model"
   ],
   "id": "954acbdee318b8b3"
  },
  {
   "metadata": {},
   "cell_type": "markdown",
   "source": "## 1 Getting the Data",
   "id": "f427dfb41ff5a9bc"
  },
  {
   "metadata": {},
   "cell_type": "markdown",
   "source": [
    "Data can be of the following types:\n",
    "* Text\n",
    "* Numbers\n",
    "* Images\n",
    "* Audio\n",
    "* Video\n",
    "* Excel\n",
    "* DNA"
   ],
   "id": "8cc6f2fac10fbab"
  },
  {
   "metadata": {},
   "cell_type": "markdown",
   "source": [
    "### Linear Regression model and Collecting data\n",
    "\n",
    "formula for linear Regression :`y=a+bX`\n",
    "\n"
   ],
   "id": "7669334bc56b168c"
  },
  {
   "metadata": {
    "ExecuteTime": {
     "end_time": "2025-04-08T17:55:42.140731Z",
     "start_time": "2025-04-08T17:55:40.729191Z"
    }
   },
   "cell_type": "code",
   "source": [
    "import numpy as np\n",
    "import torch\n",
    "from IPython.core.pylabtools import figsize\n",
    "from torch import nn"
   ],
   "id": "c666dcdced69a08f",
   "outputs": [],
   "execution_count": 1
  },
  {
   "metadata": {
    "ExecuteTime": {
     "end_time": "2025-04-08T17:55:42.147785Z",
     "start_time": "2025-04-08T17:55:42.145347Z"
    }
   },
   "cell_type": "code",
   "source": [
    "weight=-0.4\n",
    "bias=3"
   ],
   "id": "c279f906ed1ce2c9",
   "outputs": [],
   "execution_count": 2
  },
  {
   "metadata": {
    "collapsed": true,
    "ExecuteTime": {
     "end_time": "2025-04-08T17:55:42.259155Z",
     "start_time": "2025-04-08T17:55:42.251548Z"
    }
   },
   "cell_type": "code",
   "source": [
    "start=0\n",
    "end=1\n",
    "step=0.02\n",
    "\n",
    "X=torch.arange(start,end,step).unsqueeze(dim=1)\n",
    "y=weight*X+bias\n",
    "X[:10],y[:10]"
   ],
   "id": "initial_id",
   "outputs": [
    {
     "data": {
      "text/plain": [
       "(tensor([[0.0000],\n",
       "         [0.0200],\n",
       "         [0.0400],\n",
       "         [0.0600],\n",
       "         [0.0800],\n",
       "         [0.1000],\n",
       "         [0.1200],\n",
       "         [0.1400],\n",
       "         [0.1600],\n",
       "         [0.1800]]),\n",
       " tensor([[3.0000],\n",
       "         [2.9920],\n",
       "         [2.9840],\n",
       "         [2.9760],\n",
       "         [2.9680],\n",
       "         [2.9600],\n",
       "         [2.9520],\n",
       "         [2.9440],\n",
       "         [2.9360],\n",
       "         [2.9280]]))"
      ]
     },
     "execution_count": 3,
     "metadata": {},
     "output_type": "execute_result"
    }
   ],
   "execution_count": 3
  },
  {
   "metadata": {},
   "cell_type": "markdown",
   "source": "### Splitting data into training and testing",
   "id": "cce6582a87739e92"
  },
  {
   "metadata": {
    "ExecuteTime": {
     "end_time": "2025-04-08T17:55:42.268759Z",
     "start_time": "2025-04-08T17:55:42.266078Z"
    }
   },
   "cell_type": "code",
   "source": [
    "train_split=int(0.8*len(X))\n",
    "X_train,y_train=X[:train_split],y[:train_split]\n",
    "X_test,y_test=X[train_split:],y[train_split:]"
   ],
   "id": "3f9d0a5b1f92e71e",
   "outputs": [],
   "execution_count": 4
  },
  {
   "metadata": {},
   "cell_type": "markdown",
   "source": "### Visualizing the Dataset",
   "id": "dceda832b4d34a27"
  },
  {
   "metadata": {
    "ExecuteTime": {
     "end_time": "2025-04-08T17:55:42.521746Z",
     "start_time": "2025-04-08T17:55:42.276644Z"
    }
   },
   "cell_type": "code",
   "source": "import matplotlib.pyplot as plt",
   "id": "e80d40320b284c99",
   "outputs": [],
   "execution_count": 5
  },
  {
   "metadata": {
    "ExecuteTime": {
     "end_time": "2025-04-08T17:55:42.533571Z",
     "start_time": "2025-04-08T17:55:42.530588Z"
    }
   },
   "cell_type": "code",
   "source": [
    "def plot_predictions(train_data=X_train ,\n",
    "                     train_label=y_train,\n",
    "                     test_data=X_test,\n",
    "                     test_labels=y_test,predictions=None):\n",
    "    plt.figure(figsize=(10,7))\n",
    "\n",
    "    plt.scatter(train_data,train_label,c=\"b\",s=4,label=\"training data\")\n",
    "    plt.scatter(test_data,test_labels,c=\"r\",s=4,label=\"testing data\")\n",
    "\n",
    "    if predictions is not None:\n",
    "        plt.scatter(test_data,predictions,c=\"g\",s=4,label=\"predictions\")\n",
    "\n",
    "    plt.legend(prop={\"size\":14})\n",
    "    plt.show()\n"
   ],
   "id": "dc835aa7279b8574",
   "outputs": [],
   "execution_count": 6
  },
  {
   "metadata": {
    "ExecuteTime": {
     "end_time": "2025-04-08T17:55:42.642820Z",
     "start_time": "2025-04-08T17:55:42.541845Z"
    }
   },
   "cell_type": "code",
   "source": "plot_predictions()",
   "id": "9601fe7bb1a0ccf2",
   "outputs": [
    {
     "data": {
      "text/plain": [
       "<Figure size 1000x700 with 1 Axes>"
      ],
      "image/png": "[encoded data removed]"
     },
     "metadata": {},
     "output_type": "display_data"
    }
   ],
   "execution_count": 7
  },
  {
   "metadata": {},
   "cell_type": "markdown",
   "source": "## Building our own model",
   "id": "79f092b2f12f00aa"
  },
  {
   "metadata": {
    "ExecuteTime": {
     "end_time": "2025-04-08T17:55:42.664250Z",
     "start_time": "2025-04-08T17:55:42.660809Z"
    }
   },
   "cell_type": "code",
   "source": [
    "class LinearRegressionModel(nn.Module):\n",
    "    def __init__(self):\n",
    "        super().__init__()\n",
    "        self.weight=nn.Parameter(torch.randn(1,\n",
    "                                             requires_grad=True,   #requires Gradient\n",
    "                                             dtype=torch.float)    #datatype\n",
    "                                 )\n",
    "        self.bias=nn.Parameter(torch.randn(1,\n",
    "                                           dtype=torch.float,\n",
    "                                           requires_grad=True\n",
    "                                           ) )\n",
    "\n",
    "    def forward(self, x:torch.Tensor)->torch.Tensor:\n",
    "        return self.weight * x + self.bias\n"
   ],
   "id": "1c5e10631b4738b3",
   "outputs": [],
   "execution_count": 8
  },
  {
   "metadata": {},
   "cell_type": "markdown",
   "source": "### Using above class in our code",
   "id": "7e0e0269eca108b0"
  },
  {
   "metadata": {
    "ExecuteTime": {
     "end_time": "2025-04-08T17:55:42.679121Z",
     "start_time": "2025-04-08T17:55:42.671544Z"
    }
   },
   "cell_type": "code",
   "source": [
    "torch.manual_seed(42)\n",
    "model_0=LinearRegressionModel()\n",
    "\n",
    "model_0"
   ],
   "id": "ee4985be2aa02a21",
   "outputs": [
    {
     "data": {
      "text/plain": [
       "LinearRegressionModel()"
      ]
     },
     "execution_count": 9,
     "metadata": {},
     "output_type": "execute_result"
    }
   ],
   "execution_count": 9
  },
  {
   "metadata": {
    "ExecuteTime": {
     "end_time": "2025-04-08T17:55:42.691073Z",
     "start_time": "2025-04-08T17:55:42.687667Z"
    }
   },
   "cell_type": "code",
   "source": "model_0.parameters()",
   "id": "b7fb947af4da3926",
   "outputs": [
    {
     "data": {
      "text/plain": [
       "<generator object Module.parameters at 0x000001862B5F7680>"
      ]
     },
     "execution_count": 10,
     "metadata": {},
     "output_type": "execute_result"
    }
   ],
   "execution_count": 10
  },
  {
   "metadata": {
    "ExecuteTime": {
     "end_time": "2025-04-08T17:55:42.705137Z",
     "start_time": "2025-04-08T17:55:42.701435Z"
    }
   },
   "cell_type": "code",
   "source": "list(model_0.parameters())",
   "id": "7b1d045007f35b68",
   "outputs": [
    {
     "data": {
      "text/plain": [
       "[Parameter containing:\n",
       " tensor([0.3367], requires_grad=True),\n",
       " Parameter containing:\n",
       " tensor([0.1288], requires_grad=True)]"
      ]
     },
     "execution_count": 11,
     "metadata": {},
     "output_type": "execute_result"
    }
   ],
   "execution_count": 11
  },
  {
   "metadata": {
    "ExecuteTime": {
     "end_time": "2025-04-08T17:55:42.719503Z",
     "start_time": "2025-04-08T17:55:42.714844Z"
    }
   },
   "cell_type": "code",
   "source": "model_0.state_dict()",
   "id": "137e05c96de4f8b",
   "outputs": [
    {
     "data": {
      "text/plain": [
       "OrderedDict([('weight', tensor([0.3367])), ('bias', tensor([0.1288]))])"
      ]
     },
     "execution_count": 12,
     "metadata": {},
     "output_type": "execute_result"
    }
   ],
   "execution_count": 12
  },
  {
   "metadata": {
    "ExecuteTime": {
     "end_time": "2025-04-08T17:55:42.733193Z",
     "start_time": "2025-04-08T17:55:42.729108Z"
    }
   },
   "cell_type": "code",
   "source": "weight,bias",
   "id": "5e113f1b273bcffb",
   "outputs": [
    {
     "data": {
      "text/plain": [
       "(-0.4, 3)"
      ]
     },
     "execution_count": 13,
     "metadata": {},
     "output_type": "execute_result"
    }
   ],
   "execution_count": 13
  },
  {
   "metadata": {},
   "cell_type": "markdown",
   "source": "`torch.inference_mode()` use y_test on x_test\n",
   "id": "77a648ae4097801f"
  },
  {
   "metadata": {
    "ExecuteTime": {
     "end_time": "2025-04-08T17:55:42.746321Z",
     "start_time": "2025-04-08T17:55:42.742423Z"
    }
   },
   "cell_type": "code",
   "source": [
    "with torch.inference_mode():\n",
    "    y_preds=model_0.forward(X_test)\n",
    "\n",
    "y_preds"
   ],
   "id": "c5625d6ea5b62f60",
   "outputs": [
    {
     "data": {
      "text/plain": [
       "tensor([[0.3982],\n",
       "        [0.4049],\n",
       "        [0.4116],\n",
       "        [0.4184],\n",
       "        [0.4251],\n",
       "        [0.4318],\n",
       "        [0.4386],\n",
       "        [0.4453],\n",
       "        [0.4520],\n",
       "        [0.4588]])"
      ]
     },
     "execution_count": 14,
     "metadata": {},
     "output_type": "execute_result"
    }
   ],
   "execution_count": 14
  },
  {
   "metadata": {
    "ExecuteTime": {
     "end_time": "2025-04-08T17:55:42.838364Z",
     "start_time": "2025-04-08T17:55:42.755987Z"
    }
   },
   "cell_type": "code",
   "source": "plot_predictions(predictions=y_preds)",
   "id": "b3ecdb2dada139ee",
   "outputs": [
    {
     "data": {
      "text/plain": [
       "<Figure size 1000x700 with 1 Axes>"
      ],
      "image/png": "[encoded data removed]"
     },
     "metadata": {},
     "output_type": "display_data"
    }
   ],
   "execution_count": 15
  },
  {
   "metadata": {},
   "cell_type": "markdown",
   "source": "## Training the model",
   "id": "7e08908c64491552"
  },
  {
   "metadata": {
    "ExecuteTime": {
     "end_time": "2025-04-08T17:55:44.061151Z",
     "start_time": "2025-04-08T17:55:43.045108Z"
    }
   },
   "cell_type": "code",
   "source": [
    "#generating loss function\n",
    "loss_fn=nn.L1Loss()\n",
    "#generating optimizer\n",
    "optimizer=torch.optim.SGD(model_0.parameters(),\n",
    "                          lr=0.01\n",
    "                          )"
   ],
   "id": "7db64eba4a94b2f5",
   "outputs": [],
   "execution_count": 16
  },
  {
   "metadata": {
    "ExecuteTime": {
     "end_time": "2025-04-08T17:55:44.994789Z",
     "start_time": "2025-04-08T17:55:44.087622Z"
    }
   },
   "cell_type": "code",
   "source": [
    "epochs=2000\n",
    "torch.manual_seed(42)\n",
    "loss_values=[]\n",
    "test_loss_values=[]\n",
    "epoch_count=[]\n",
    "for epoch in range(epochs):\n",
    "    model_0.train()         #set model to train\n",
    "\n",
    "    #1. forward pass\n",
    "    y_pred=model_0(X_train)\n",
    "\n",
    "    #2. calculate loss\n",
    "    loss=loss_fn(y_pred,y_train)\n",
    "    # print(f\"loss :{loss}\")\n",
    "\n",
    "    #3. optimizer\n",
    "    optimizer.zero_grad()\n",
    "\n",
    "    #4. perform back_propagataion\n",
    "    loss.backward()\n",
    "\n",
    "    #5. step the optimizer\n",
    "    optimizer.step()\n",
    "\n",
    "\n",
    "    model_0.eval()          #set model to turn off gradients\n",
    "\n",
    "\n",
    "    with torch.inference_mode():\n",
    "        test_pred=model_0.forward(X_test)\n",
    "        test_loss=loss_fn(test_pred,y_test)\n",
    "\n",
    "    if(epoch%10==0):\n",
    "        epoch_count.append(epoch)\n",
    "        loss_values.append(loss)\n",
    "        test_loss_values.append(test_loss)\n",
    "\n",
    "\n"
   ],
   "id": "1e811cac9d477f5d",
   "outputs": [],
   "execution_count": 17
  },
  {
   "metadata": {
    "ExecuteTime": {
     "end_time": "2025-04-08T17:55:45.003579Z",
     "start_time": "2025-04-08T17:55:44.998817Z"
    }
   },
   "cell_type": "code",
   "source": [
    "with torch.inference_mode():\n",
    "    y_preds=model_0.forward(X_test)\n",
    "y_preds,loss_fn(y_test,y_preds)"
   ],
   "id": "80d08f0c2e34fe5e",
   "outputs": [
    {
     "data": {
      "text/plain": [
       "(tensor([[2.6848],\n",
       "         [2.6769],\n",
       "         [2.6690],\n",
       "         [2.6611],\n",
       "         [2.6532],\n",
       "         [2.6453],\n",
       "         [2.6374],\n",
       "         [2.6295],\n",
       "         [2.6216],\n",
       "         [2.6138]]),\n",
       " tensor(0.0053))"
      ]
     },
     "execution_count": 18,
     "metadata": {},
     "output_type": "execute_result"
    }
   ],
   "execution_count": 18
  },
  {
   "metadata": {
    "ExecuteTime": {
     "end_time": "2025-04-08T17:55:45.110573Z",
     "start_time": "2025-04-08T17:55:45.023064Z"
    }
   },
   "cell_type": "code",
   "source": "plot_predictions(predictions=y_preds)",
   "id": "52d01d7f4357689f",
   "outputs": [
    {
     "data": {
      "text/plain": [
       "<Figure size 1000x700 with 1 Axes>"
      ],
      "image/png": "[encoded data removed]"
     },
     "metadata": {},
     "output_type": "display_data"
    }
   ],
   "execution_count": 19
  },
  {
   "metadata": {},
   "cell_type": "markdown",
   "source": "",
   "id": "75f15bddccc87e1"
  },
  {
   "metadata": {
    "ExecuteTime": {
     "end_time": "2025-04-08T17:55:45.136587Z",
     "start_time": "2025-04-08T17:55:45.130845Z"
    }
   },
   "cell_type": "code",
   "source": [
    "test_loss_values=np.array(test_loss_values)\n",
    "loss_values=np.array(torch.tensor(loss_values))\n",
    "test_loss_values"
   ],
   "id": "5ee5c4388115ae9",
   "outputs": [
    {
     "name": "stderr",
     "output_type": "stream",
     "text": [
      "C:\\Users\\karti\\AppData\\Local\\Temp\\ipykernel_16732\\2514316249.py:2: DeprecationWarning: __array__ implementation doesn't accept a copy keyword, so passing copy=False failed. __array__ must implement 'dtype' and 'copy' keyword arguments. To learn more, see the migration guide https://numpy.org/devdocs/numpy_2_0_migration_guide.html#adapting-to-changes-in-the-copy-keyword\n",
      "  loss_values=np.array(torch.tensor(loss_values))\n"
     ]
    },
    {
     "data": {
      "text/plain": [
       "array([2.2020652e+00, 2.0673552e+00, 1.9326452e+00, 1.7979355e+00,\n",
       "       1.6632258e+00, 1.5285157e+00, 1.3938060e+00, 1.2590961e+00,\n",
       "       1.1243862e+00, 9.8967648e-01, 8.5496652e-01, 7.2025681e-01,\n",
       "       5.8554685e-01, 4.5083714e-01, 3.1612724e-01, 1.8141739e-01,\n",
       "       7.5995758e-02, 9.7716190e-02, 2.1764752e-01, 3.1742054e-01,\n",
       "       3.9472932e-01, 4.5411292e-01, 5.0055420e-01, 5.3578389e-01,\n",
       "       5.6292415e-01, 5.8352667e-01, 6.0051697e-01, 6.1037195e-01,\n",
       "       6.1952204e-01, 6.2232840e-01, 6.2513465e-01, 6.2794077e-01,\n",
       "       6.2448478e-01, 6.2033290e-01, 6.1618108e-01, 6.1202919e-01,\n",
       "       6.0787743e-01, 6.0372555e-01, 5.9957373e-01, 5.9542185e-01,\n",
       "       5.8920944e-01, 5.8093649e-01, 5.7266349e-01, 5.6507742e-01,\n",
       "       5.5680448e-01, 5.4921836e-01, 5.4094541e-01, 5.3267246e-01,\n",
       "       5.2508640e-01, 5.1681340e-01, 5.0854045e-01, 5.0095427e-01,\n",
       "       4.9268135e-01, 4.8440832e-01, 4.7682229e-01, 4.6854931e-01,\n",
       "       4.6027637e-01, 4.5269021e-01, 4.4441730e-01, 4.3614435e-01,\n",
       "       4.2855826e-01, 4.2028528e-01, 4.1269913e-01, 4.0442619e-01,\n",
       "       3.9615324e-01, 3.8856715e-01, 3.8029417e-01, 3.7202123e-01,\n",
       "       3.6443514e-01, 3.5616216e-01, 3.4788916e-01, 3.4030306e-01,\n",
       "       3.3203012e-01, 3.2375717e-01, 3.1617099e-01, 3.0789810e-01,\n",
       "       2.9962510e-01, 2.9203916e-01, 2.8376621e-01, 2.7618021e-01,\n",
       "       2.6790729e-01, 2.5963435e-01, 2.5204837e-01, 2.4377544e-01,\n",
       "       2.3550256e-01, 2.2791648e-01, 2.1964359e-01, 2.1137068e-01,\n",
       "       2.0378463e-01, 1.9551173e-01, 1.8723881e-01, 1.7965277e-01,\n",
       "       1.7137983e-01, 1.6310696e-01, 1.5552092e-01, 1.4724800e-01,\n",
       "       1.3931866e-01, 1.3104570e-01, 1.2345970e-01, 1.1518679e-01,\n",
       "       1.0691388e-01, 9.9327847e-02, 9.1054939e-02, 8.3468892e-02,\n",
       "       7.5195983e-02, 6.6923067e-02, 5.9336923e-02, 5.1064014e-02,\n",
       "       4.2791031e-02, 3.5204936e-02, 2.6931977e-02, 1.8659044e-02,\n",
       "       1.1072898e-02, 2.1219491e-03, 8.1960913e-03, 8.1960913e-03,\n",
       "       8.1960913e-03, 8.1960913e-03, 8.1960913e-03, 8.1960913e-03,\n",
       "       8.1960913e-03, 8.1960913e-03, 8.1960913e-03, 8.1960913e-03,\n",
       "       8.1960913e-03, 8.1960913e-03, 8.1960913e-03, 8.1960913e-03,\n",
       "       8.1960913e-03, 8.1960913e-03, 8.1960913e-03, 8.1960913e-03,\n",
       "       8.1960913e-03, 8.1960913e-03, 8.1960913e-03, 8.1960913e-03,\n",
       "       8.1960913e-03, 8.1960913e-03, 8.1960913e-03, 8.1960913e-03,\n",
       "       8.1960913e-03, 8.1960913e-03, 8.1960913e-03, 8.1960913e-03,\n",
       "       8.1960913e-03, 8.1960913e-03, 8.1960913e-03, 8.1960913e-03,\n",
       "       8.1960913e-03, 8.1960913e-03, 8.1960913e-03, 8.1960913e-03,\n",
       "       8.1960913e-03, 8.1960913e-03, 8.1960913e-03, 8.1960913e-03,\n",
       "       8.1960913e-03, 8.1960913e-03, 8.1960913e-03, 8.1960913e-03,\n",
       "       8.1960913e-03, 8.1960913e-03, 8.1960913e-03, 8.1960913e-03,\n",
       "       8.1960913e-03, 8.1960913e-03, 8.1960913e-03, 8.1960913e-03,\n",
       "       8.1960913e-03, 8.1960913e-03, 8.1960913e-03, 8.1960913e-03,\n",
       "       8.1960913e-03, 8.1960913e-03, 8.1960913e-03, 8.1960913e-03,\n",
       "       8.1960913e-03, 8.1960913e-03, 8.1960913e-03, 8.1960913e-03,\n",
       "       8.1960913e-03, 8.1960913e-03, 8.1960913e-03, 8.1960913e-03,\n",
       "       8.1960913e-03, 8.1960913e-03, 8.1960913e-03, 8.1960913e-03,\n",
       "       8.1960913e-03, 8.1960913e-03, 8.1960913e-03, 8.1960913e-03,\n",
       "       8.1960913e-03, 8.1960913e-03, 8.1960913e-03, 8.1960913e-03,\n",
       "       8.1960913e-03, 8.1960913e-03, 8.1960913e-03, 8.1960913e-03],\n",
       "      dtype=float32)"
      ]
     },
     "execution_count": 20,
     "metadata": {},
     "output_type": "execute_result"
    }
   ],
   "execution_count": 20
  },
  {
   "metadata": {
    "ExecuteTime": {
     "end_time": "2025-04-08T17:55:45.223681Z",
     "start_time": "2025-04-08T17:55:45.150205Z"
    }
   },
   "cell_type": "code",
   "source": [
    "plt.plot(epoch_count,test_loss_values,label=\"train loss\")\n",
    "plt.plot(epoch_count,loss_values,label=\"test loss\")\n",
    "plt.title(\"Training and test loss curve\")\n",
    "plt.ylabel(\"loss\")\n",
    "plt.xlabel(\"epoch\")\n",
    "plt.legend()\n",
    "plt.show()"
   ],
   "id": "85d3ee8b0bb97df5",
   "outputs": [
    {
     "data": {
      "text/plain": [
       "<Figure size 640x480 with 1 Axes>"
      ],
      "image/png": "[encoded data removed]"
     },
     "metadata": {},
     "output_type": "display_data"
    }
   ],
   "execution_count": 21
  },
  {
   "metadata": {
    "ExecuteTime": {
     "end_time": "2025-04-08T17:55:45.241064Z",
     "start_time": "2025-04-08T17:55:45.236680Z"
    }
   },
   "cell_type": "code",
   "source": "test_loss_values[-1:]",
   "id": "8bcda2a8042bcf1a",
   "outputs": [
    {
     "data": {
      "text/plain": [
       "array([0.00819609], dtype=float32)"
      ]
     },
     "execution_count": 22,
     "metadata": {},
     "output_type": "execute_result"
    }
   ],
   "execution_count": 22
  },
  {
   "metadata": {},
   "cell_type": "markdown",
   "source": "## Exporting the model and loading it",
   "id": "c3d319f401913bf7"
  },
  {
   "metadata": {},
   "cell_type": "markdown",
   "source": "### Saving the model",
   "id": "eaf370b1ce6b236a"
  },
  {
   "metadata": {},
   "cell_type": "markdown",
   "source": [
    "* `torch.save()` allows you to save in python pkl\n",
    "* `torch.load()` allows you to load model\n",
    "* `torch.nn.Module.load_state_dict()` allows to load model from state dict dictionary"
   ],
   "id": "5d2b37256976e31c"
  },
  {
   "metadata": {
    "ExecuteTime": {
     "end_time": "2025-04-08T18:15:02.495701Z",
     "start_time": "2025-04-08T18:15:02.491678Z"
    }
   },
   "cell_type": "code",
   "source": [
    "from pathlib import Path\n",
    "\n",
    "#1. Create a directory\n",
    "MODEL_PATH=Path(\"models\")\n",
    "MODEL_PATH.mkdir(parents=True,exist_ok=True)\n",
    "\n",
    "#2 create model to save path\n",
    "MODEL_NAME = \"LinearRegressionModel.pth\"\n",
    "MODEL_SAVE_PATH=MODEL_PATH/MODEL_NAME\n",
    "\n",
    "#3 Save the model and load\n",
    "print(f\"Saving model to {MODEL_SAVE_PATH}\")\n",
    "torch.save(obj=model_0.state_dict(),f=MODEL_SAVE_PATH)\n",
    "print(f\"Done!!!!\")"
   ],
   "id": "f16ebf19c25ff46b",
   "outputs": [
    {
     "name": "stdout",
     "output_type": "stream",
     "text": [
      "Saving model to models\\LinearRegressionModel.pth\n",
      "Done!!!!\n"
     ]
    }
   ],
   "execution_count": 32
  },
  {
   "metadata": {},
   "cell_type": "markdown",
   "source": "### Loading the model",
   "id": "af4e4c3d89920507"
  },
  {
   "metadata": {
    "ExecuteTime": {
     "end_time": "2025-04-08T18:15:23.682386Z",
     "start_time": "2025-04-08T18:15:23.675963Z"
    }
   },
   "cell_type": "code",
   "source": [
    "Loaded_model_0=LinearRegressionModel()\n",
    "\n",
    "#loading the state\n",
    "Loaded_model_0.load_state_dict(torch.load(MODEL_SAVE_PATH))\n",
    "Loaded_model_0.state_dict()"
   ],
   "id": "b3ba7b8d528e1a1a",
   "outputs": [
    {
     "data": {
      "text/plain": [
       "OrderedDict([('weight', tensor([-0.3946])), ('bias', tensor([3.0005]))])"
      ]
     },
     "execution_count": 36,
     "metadata": {},
     "output_type": "execute_result"
    }
   ],
   "execution_count": 36
  },
  {
   "metadata": {},
   "cell_type": "markdown",
   "source": "# Building from scratch again",
   "id": "436c3a866efbacc6"
  },
  {
   "metadata": {
    "ExecuteTime": {
     "end_time": "2025-04-10T06:53:35.250495Z",
     "start_time": "2025-04-10T06:53:35.245960Z"
    }
   },
   "cell_type": "code",
   "source": [
    "import torch\n",
    "from torch import nn\n",
    "import numpy as np\n",
    "import matplotlib.pyplot as plt\n"
   ],
   "id": "f520df1f35cdd00",
   "outputs": [],
   "execution_count": 127
  },
  {
   "metadata": {
    "ExecuteTime": {
     "end_time": "2025-04-10T06:53:35.272577Z",
     "start_time": "2025-04-10T06:53:35.268801Z"
    }
   },
   "cell_type": "code",
   "source": [
    "device = \"cuda\" if torch.cuda.is_available() else \"cpu\"\n",
    "print(f\"Using {device} device\")"
   ],
   "id": "5a0fa8a4eb4c27d5",
   "outputs": [
    {
     "name": "stdout",
     "output_type": "stream",
     "text": [
      "Using cuda device\n"
     ]
    }
   ],
   "execution_count": 128
  },
  {
   "metadata": {
    "ExecuteTime": {
     "end_time": "2025-04-10T06:53:36.188507Z",
     "start_time": "2025-04-10T06:53:35.825932Z"
    }
   },
   "cell_type": "code",
   "source": "!nvidia-smi",
   "id": "b3033bd42005b322",
   "outputs": [
    {
     "name": "stdout",
     "output_type": "stream",
     "text": [
      "Thu Apr 10 12:23:35 2025       \n",
      "+-----------------------------------------------------------------------------------------+\n",
      "| NVIDIA-SMI 572.83                 Driver Version: 572.83         CUDA Version: 12.8     |\n",
      "|-----------------------------------------+------------------------+----------------------+\n",
      "| GPU  Name                  Driver-Model | Bus-Id          Disp.A | Volatile Uncorr. ECC |\n",
      "| Fan  Temp   Perf          Pwr:Usage/Cap |           Memory-Usage | GPU-Util  Compute M. |\n",
      "|                                         |                        |               MIG M. |\n",
      "|=========================================+========================+======================|\n",
      "|   0  NVIDIA GeForce RTX 4050 ...  WDDM  |   00000000:01:00.0 Off |                  N/A |\n",
      "| N/A   47C    P8              3W /   62W |     131MiB /   6141MiB |      0%      Default |\n",
      "|                                         |                        |                  N/A |\n",
      "+-----------------------------------------+------------------------+----------------------+\n",
      "                                                                                         \n",
      "+-----------------------------------------------------------------------------------------+\n",
      "| Processes:                                                                              |\n",
      "|  GPU   GI   CI              PID   Type   Process name                        GPU Memory |\n",
      "|        ID   ID                                                               Usage      |\n",
      "|=========================================================================================|\n",
      "|    0   N/A  N/A           15056      C   ...le-1\\.venv\\Scripts\\python.exe      N/A      |\n",
      "+-----------------------------------------------------------------------------------------+\n"
     ]
    }
   ],
   "execution_count": 129
  },
  {
   "metadata": {},
   "cell_type": "markdown",
   "source": "## Data",
   "id": "89640b432dae44a7"
  },
  {
   "metadata": {
    "ExecuteTime": {
     "end_time": "2025-04-10T06:53:37.254755Z",
     "start_time": "2025-04-10T06:53:37.247900Z"
    }
   },
   "cell_type": "code",
   "source": [
    "weight=0.8\n",
    "bias=0.1\n",
    "\n",
    "start=0\n",
    "end=1\n",
    "step=0.02\n",
    "\n",
    "X=torch.arange(start,end,step).unsqueeze(dim=1)\n",
    "y=weight*X+bias\n",
    "\n",
    "X[:10],y[:10]"
   ],
   "id": "8b02834737424677",
   "outputs": [
    {
     "data": {
      "text/plain": [
       "(tensor([[0.0000],\n",
       "         [0.0200],\n",
       "         [0.0400],\n",
       "         [0.0600],\n",
       "         [0.0800],\n",
       "         [0.1000],\n",
       "         [0.1200],\n",
       "         [0.1400],\n",
       "         [0.1600],\n",
       "         [0.1800]]),\n",
       " tensor([[0.1000],\n",
       "         [0.1160],\n",
       "         [0.1320],\n",
       "         [0.1480],\n",
       "         [0.1640],\n",
       "         [0.1800],\n",
       "         [0.1960],\n",
       "         [0.2120],\n",
       "         [0.2280],\n",
       "         [0.2440]]))"
      ]
     },
     "execution_count": 130,
     "metadata": {},
     "output_type": "execute_result"
    }
   ],
   "execution_count": 130
  },
  {
   "metadata": {
    "ExecuteTime": {
     "end_time": "2025-04-10T06:53:37.300339Z",
     "start_time": "2025-04-10T06:53:37.294879Z"
    }
   },
   "cell_type": "code",
   "source": [
    "train_split=int(0.8*len(X))\n",
    "\n",
    "X_train=X[:train_split]\n",
    "y_train=y[:train_split]\n",
    "\n",
    "X_test=X[train_split:]\n",
    "y_test=y[train_split:]\n",
    "\n",
    "len(X_train),len(y_train),len(X_test),len(y_test)"
   ],
   "id": "b35cd9258dc04126",
   "outputs": [
    {
     "data": {
      "text/plain": [
       "(40, 40, 10, 10)"
      ]
     },
     "execution_count": 131,
     "metadata": {},
     "output_type": "execute_result"
    }
   ],
   "execution_count": 131
  },
  {
   "metadata": {
    "ExecuteTime": {
     "end_time": "2025-04-10T06:53:37.789770Z",
     "start_time": "2025-04-10T06:53:37.785286Z"
    }
   },
   "cell_type": "code",
   "source": [
    "def plot_prediction(X_train=X_train,y_train=y_train,X_test=X_test,y_test=y_test,predictions=None):\n",
    "    plt.plot(figsize=(10,7))\n",
    "    plt.scatter(X_train,y_train,c=\"b\",s=4,label=\"training data\")\n",
    "    plt.scatter(X_test,y_test,c=\"g\",s=4,label=\"testing data\")\n",
    "\n",
    "    if predictions is not None:\n",
    "        plt.scatter(X_test,predictions,c=\"r\",s=4,label=\"predictions\")\n",
    "\n",
    "    plt.legend(prop={\"size\":14})\n",
    "    plt.show()"
   ],
   "id": "fc0cf6320ba16b27",
   "outputs": [],
   "execution_count": 132
  },
  {
   "metadata": {
    "ExecuteTime": {
     "end_time": "2025-04-10T06:53:38.457807Z",
     "start_time": "2025-04-10T06:53:38.297691Z"
    }
   },
   "cell_type": "code",
   "source": "plot_prediction()",
   "id": "9be51c21f7d21986",
   "outputs": [
    {
     "data": {
      "text/plain": [
       "<Figure size 640x480 with 1 Axes>"
      ],
      "image/png": "[encoded data removed]"
     },
     "metadata": {},
     "output_type": "display_data"
    }
   ],
   "execution_count": 133
  },
  {
   "metadata": {},
   "cell_type": "markdown",
   "source": "## Building pytorch linear model",
   "id": "b763e92c1e1b0dc0"
  },
  {
   "metadata": {
    "ExecuteTime": {
     "end_time": "2025-04-10T06:53:38.962578Z",
     "start_time": "2025-04-10T06:53:38.951818Z"
    }
   },
   "cell_type": "code",
   "source": [
    "#Building linear model using torch\n",
    "class LinearModel_1(nn.Module):\n",
    "    def __init__(self):\n",
    "        super().__init__()\n",
    "        #use nn.Linear\n",
    "        self.linear_layer=nn.Linear(in_features=1,\n",
    "                                    out_features=1\n",
    "                                    )\n",
    "\n",
    "\n",
    "    def forward(self,x:torch.Tensor)->torch.Tensor:\n",
    "        return self.linear_layer(x)\n",
    "\n",
    "\n",
    "torch.manual_seed(42)\n",
    "model_1=LinearModel_1()\n",
    "\n",
    "model_1.state_dict()"
   ],
   "id": "91556c1dd63642db",
   "outputs": [
    {
     "data": {
      "text/plain": [
       "OrderedDict([('linear_layer.weight', tensor([[0.7645]])),\n",
       "             ('linear_layer.bias', tensor([0.8300]))])"
      ]
     },
     "execution_count": 134,
     "metadata": {},
     "output_type": "execute_result"
    }
   ],
   "execution_count": 134
  },
  {
   "metadata": {
    "ExecuteTime": {
     "end_time": "2025-04-10T06:53:39.466572Z",
     "start_time": "2025-04-10T06:53:39.463023Z"
    }
   },
   "cell_type": "code",
   "source": "next(model_1.parameters()).device",
   "id": "186b939cdfe2d82f",
   "outputs": [
    {
     "data": {
      "text/plain": [
       "device(type='cpu')"
      ]
     },
     "execution_count": 135,
     "metadata": {},
     "output_type": "execute_result"
    }
   ],
   "execution_count": 135
  },
  {
   "metadata": {
    "ExecuteTime": {
     "end_time": "2025-04-10T06:53:39.969797Z",
     "start_time": "2025-04-10T06:53:39.964309Z"
    }
   },
   "cell_type": "code",
   "source": [
    "model_1.to(device)\n",
    "next(model_1.parameters()).device"
   ],
   "id": "6773662fb6087c51",
   "outputs": [
    {
     "data": {
      "text/plain": [
       "device(type='cuda', index=0)"
      ]
     },
     "execution_count": 136,
     "metadata": {},
     "output_type": "execute_result"
    }
   ],
   "execution_count": 136
  },
  {
   "metadata": {
    "ExecuteTime": {
     "end_time": "2025-04-10T06:53:40.497234Z",
     "start_time": "2025-04-10T06:53:40.492691Z"
    }
   },
   "cell_type": "code",
   "source": [
    "X_train=X_train.to(device )\n",
    "y_train=y_train.to(device )\n",
    "X_test=X_test.to(device )\n",
    "y_test=y_test.to(device )"
   ],
   "id": "45bcca68ccd6988a",
   "outputs": [],
   "execution_count": 137
  },
  {
   "metadata": {},
   "cell_type": "markdown",
   "source": "## Training the model",
   "id": "19dca3a730e6d464"
  },
  {
   "metadata": {
    "ExecuteTime": {
     "end_time": "2025-04-10T06:53:41.026962Z",
     "start_time": "2025-04-10T06:53:41.022873Z"
    }
   },
   "cell_type": "code",
   "source": [
    "loss_fn=nn.L1Loss()\n",
    "optimizer=torch.optim.SGD(params=model_1.parameters(),\n",
    "                          lr=0.01)"
   ],
   "id": "6ed35ffae650c2c7",
   "outputs": [],
   "execution_count": 138
  },
  {
   "metadata": {
    "ExecuteTime": {
     "end_time": "2025-04-10T06:53:42.933901Z",
     "start_time": "2025-04-10T06:53:42.132929Z"
    }
   },
   "cell_type": "code",
   "source": [
    "%time\n",
    "torch.manual_seed(42)\n",
    "epochs=300\n",
    "epoch_count=[]\n",
    "test_loss_values=[]\n",
    "train_loss_values=[]\n",
    "\n",
    "for epoch in range(epochs):\n",
    "    model_1.train()\n",
    "\n",
    "    #1. Forward pass\n",
    "    y_pred=model_1(X_train)\n",
    "\n",
    "    #2. calculate loss\n",
    "    loss=loss_fn(y_pred,y_train)\n",
    "\n",
    "    #3 zero the optimizer\n",
    "    optimizer.zero_grad()\n",
    "\n",
    "    #4. perform backPropagation\n",
    "    loss.backward()\n",
    "\n",
    "    #5 optimizer step\n",
    "    optimizer.step()\n",
    "\n",
    "    #6 testing loop\n",
    "    model_1.eval()\n",
    "    with torch.inference_mode():\n",
    "        test_pred=model_1.forward(X_test)\n",
    "        test_loss=loss_fn(test_pred,y_test)\n",
    "        if epoch%10 == 0:\n",
    "            test_loss_values.append(test_loss)\n",
    "            train_loss_values.append(loss)\n",
    "            epoch_count.append(epoch)\n",
    "            print(f\"Loss: {loss} || epoch: {epoch} \")\n",
    "\n"
   ],
   "id": "379e283ad9333c95",
   "outputs": [
    {
     "name": "stdout",
     "output_type": "stream",
     "text": [
      "CPU times: total: 0 ns\n",
      "Wall time: 3.58 μs\n",
      "Loss: 0.7161779403686523 || epoch: 0 \n",
      "Loss: 0.600968062877655 || epoch: 10 \n",
      "Loss: 0.4857582151889801 || epoch: 20 \n",
      "Loss: 0.3705483078956604 || epoch: 30 \n",
      "Loss: 0.2553384304046631 || epoch: 40 \n",
      "Loss: 0.14012856781482697 || epoch: 50 \n",
      "Loss: 0.062267422676086426 || epoch: 60 \n",
      "Loss: 0.051928360015153885 || epoch: 70 \n",
      "Loss: 0.04793083667755127 || epoch: 80 \n",
      "Loss: 0.04441932588815689 || epoch: 90 \n",
      "Loss: 0.040981173515319824 || epoch: 100 \n",
      "Loss: 0.0375458225607872 || epoch: 110 \n",
      "Loss: 0.03411635756492615 || epoch: 120 \n",
      "Loss: 0.0306775514036417 || epoch: 130 \n",
      "Loss: 0.027243871241807938 || epoch: 140 \n",
      "Loss: 0.023812729865312576 || epoch: 150 \n",
      "Loss: 0.02037392184138298 || epoch: 160 \n",
      "Loss: 0.016941918060183525 || epoch: 170 \n",
      "Loss: 0.01350910123437643 || epoch: 180 \n",
      "Loss: 0.010070289485156536 || epoch: 190 \n",
      "Loss: 0.006639957427978516 || epoch: 200 \n",
      "Loss: 0.003205465152859688 || epoch: 210 \n",
      "Loss: 0.0072081321850419044 || epoch: 220 \n",
      "Loss: 0.0072081321850419044 || epoch: 230 \n",
      "Loss: 0.0072081321850419044 || epoch: 240 \n",
      "Loss: 0.0072081321850419044 || epoch: 250 \n",
      "Loss: 0.0072081321850419044 || epoch: 260 \n",
      "Loss: 0.0072081321850419044 || epoch: 270 \n",
      "Loss: 0.0072081321850419044 || epoch: 280 \n",
      "Loss: 0.0072081321850419044 || epoch: 290 \n"
     ]
    }
   ],
   "execution_count": 139
  },
  {
   "metadata": {
    "ExecuteTime": {
     "end_time": "2025-04-10T06:53:42.954917Z",
     "start_time": "2025-04-10T06:53:42.939899Z"
    }
   },
   "cell_type": "code",
   "source": "model_1.state_dict(),weight,bias",
   "id": "4603013922347362",
   "outputs": [
    {
     "data": {
      "text/plain": [
       "(OrderedDict([('linear_layer.weight', tensor([[0.7905]], device='cuda:0')),\n",
       "              ('linear_layer.bias', tensor([0.0965], device='cuda:0'))]),\n",
       " 0.8,\n",
       " 0.1)"
      ]
     },
     "execution_count": 140,
     "metadata": {},
     "output_type": "execute_result"
    }
   ],
   "execution_count": 140
  },
  {
   "metadata": {
    "ExecuteTime": {
     "end_time": "2025-04-10T06:53:43.210033Z",
     "start_time": "2025-04-10T06:53:43.204895Z"
    }
   },
   "cell_type": "code",
   "source": [
    "model_1.eval()\n",
    "with torch.inference_mode():\n",
    "    y_preds=model_1.forward(X_test)\n",
    "\n",
    "y_preds=y_preds.to(device)"
   ],
   "id": "f16f8fe1158b2f18",
   "outputs": [],
   "execution_count": 141
  },
  {
   "metadata": {
    "ExecuteTime": {
     "end_time": "2025-04-10T06:53:43.598566Z",
     "start_time": "2025-04-10T06:53:43.448580Z"
    }
   },
   "cell_type": "code",
   "source": "plot_prediction(predictions=y_preds.cpu())",
   "id": "29c50d62b2f0e6ff",
   "outputs": [
    {
     "data": {
      "text/plain": [
       "<Figure size 640x480 with 1 Axes>"
      ],
      "image/png": "[encoded data removed]"
     },
     "metadata": {},
     "output_type": "display_data"
    }
   ],
   "execution_count": 142
  },
  {
   "metadata": {},
   "cell_type": "markdown",
   "source": "## Saving the model",
   "id": "b0d917298ba1e4e9"
  },
  {
   "metadata": {
    "ExecuteTime": {
     "end_time": "2025-04-10T06:53:43.865347Z",
     "start_time": "2025-04-10T06:53:43.860886Z"
    }
   },
   "cell_type": "code",
   "source": [
    "from pathlib import Path\n",
    "\n",
    "MODEL_PATH=Path(\"models\")\n",
    "MODEL_PATH.mkdir(parents=True,exist_ok=True)\n",
    "\n",
    "MODEL_NAME=\"LIN_REG_1.pth\"\n",
    "MODEL_SAVE_PATH=MODEL_PATH/MODEL_NAME\n",
    "\n",
    "MODEL_SAVE_PATH"
   ],
   "id": "ced564d4cd0301ff",
   "outputs": [
    {
     "data": {
      "text/plain": [
       "WindowsPath('models/LIN_REG_1.pth')"
      ]
     },
     "execution_count": 143,
     "metadata": {},
     "output_type": "execute_result"
    }
   ],
   "execution_count": 143
  },
  {
   "metadata": {
    "ExecuteTime": {
     "end_time": "2025-04-10T06:53:44.169909Z",
     "start_time": "2025-04-10T06:53:44.163894Z"
    }
   },
   "cell_type": "code",
   "source": [
    "print(f\"Saving model to {MODEL_SAVE_PATH}\")\n",
    "torch.save(obj=model_1.state_dict(),\n",
    "           f=MODEL_SAVE_PATH\n",
    "           )\n",
    "\n",
    "print(f\"DONE!!!\")"
   ],
   "id": "dda201f0520ab3f6",
   "outputs": [
    {
     "name": "stdout",
     "output_type": "stream",
     "text": [
      "Saving model to models\\LIN_REG_1.pth\n",
      "DONE!!!\n"
     ]
    }
   ],
   "execution_count": 144
  },
  {
   "metadata": {},
   "cell_type": "markdown",
   "source": "## Loading the model",
   "id": "fe3363c7876908c5"
  },
  {
   "metadata": {
    "ExecuteTime": {
     "end_time": "2025-04-10T06:53:44.462383Z",
     "start_time": "2025-04-10T06:53:44.447105Z"
    }
   },
   "cell_type": "code",
   "source": [
    "loaded_model_1=LinearModel_1()\n",
    "loaded_model_1.load_state_dict(torch.load(MODEL_SAVE_PATH))\n",
    "loaded_model_1.to(device)\n",
    "\n",
    "loaded_model_1.state_dict()"
   ],
   "id": "268451edea22e5aa",
   "outputs": [
    {
     "data": {
      "text/plain": [
       "OrderedDict([('linear_layer.weight', tensor([[0.7905]], device='cuda:0')),\n",
       "             ('linear_layer.bias', tensor([0.0965], device='cuda:0'))])"
      ]
     },
     "execution_count": 145,
     "metadata": {},
     "output_type": "execute_result"
    }
   ],
   "execution_count": 145
  },
  {
   "metadata": {
    "ExecuteTime": {
     "end_time": "2025-04-10T06:53:44.849768Z",
     "start_time": "2025-04-10T06:53:44.840617Z"
    }
   },
   "cell_type": "code",
   "source": [
    "loaded_model_1.eval()\n",
    "\n",
    "with torch.inference_mode():\n",
    "    loaded_model_1_preds=loaded_model_1.forward(X_test)\n",
    "\n",
    "print(y_preds==loaded_model_1_preds)"
   ],
   "id": "134bbeaf32187dcb",
   "outputs": [
    {
     "name": "stdout",
     "output_type": "stream",
     "text": [
      "tensor([[True],\n",
      "        [True],\n",
      "        [True],\n",
      "        [True],\n",
      "        [True],\n",
      "        [True],\n",
      "        [True],\n",
      "        [True],\n",
      "        [True],\n",
      "        [True]], device='cuda:0')\n"
     ]
    }
   ],
   "execution_count": 146
  }
 ],
 "metadata": {
  "kernelspec": {
   "display_name": "Python 3",
   "language": "python",
   "name": "python3"
  },
  "language_info": {
   "codemirror_mode": {
    "name": "ipython",
    "version": 2
   },
   "file_extension": ".py",
   "mimetype": "text/x-python",
   "name": "python",
   "nbconvert_exporter": "python",
   "pygments_lexer": "ipython2",
   "version": "2.7.6"
  }
 },
 "nbformat": 4,
 "nbformat_minor": 5
}
