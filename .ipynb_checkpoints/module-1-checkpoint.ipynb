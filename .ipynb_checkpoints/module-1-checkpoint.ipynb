{
 "cells": [
  {
   "cell_type": "code",
   "execution_count": null,
   "id": "5b002cee1977a8c2",
   "metadata": {},
   "outputs": [],
   "source": [
    "!pip3 install torch torchvision torchaudio --index-url https://download.pytorch.org/whl/cu126"
   ]
  },
  {
   "cell_type": "code",
   "execution_count": 2,
   "id": "initial_id",
   "metadata": {
    "ExecuteTime": {
     "end_time": "2025-04-06T15:45:35.386363Z",
     "start_time": "2025-04-06T15:45:33.446145Z"
    },
    "collapsed": true,
    "jupyter": {
     "outputs_hidden": true
    }
   },
   "outputs": [],
   "source": [
    "import torch\n",
    "import matplotlib.pyplot as plt\n",
    "import numpy as np\n",
    "import pandas as pd"
   ]
  },
  {
   "cell_type": "code",
   "execution_count": 3,
   "id": "a50507fded7191de",
   "metadata": {
    "ExecuteTime": {
     "end_time": "2025-04-06T15:45:35.397506Z",
     "start_time": "2025-04-06T15:45:35.393365Z"
    }
   },
   "outputs": [
    {
     "name": "stdout",
     "output_type": "stream",
     "text": [
      "2.6.0+cu126\n"
     ]
    }
   ],
   "source": [
    "print(torch.__version__)"
   ]
  },
  {
   "cell_type": "markdown",
   "id": "b91b34d96e9a534f",
   "metadata": {},
   "source": [
    "# Tensors in PyTorch\n"
   ]
  },
  {
   "cell_type": "markdown",
   "id": "948531511b37ed27",
   "metadata": {},
   "source": [
    "## Types of Tensors\n"
   ]
  },
  {
   "cell_type": "markdown",
   "id": "ebc25b19e33f2253",
   "metadata": {},
   "source": [
    "### Scalars\n",
    "This are Used to create 1D array or 0st dimension tensor"
   ]
  },
  {
   "cell_type": "code",
   "execution_count": 8,
   "id": "1a3beb7081aa9683",
   "metadata": {
    "ExecuteTime": {
     "end_time": "2025-04-06T15:49:41.705531Z",
     "start_time": "2025-04-06T15:49:41.702317Z"
    }
   },
   "outputs": [
    {
     "data": {
      "text/plain": [
       "(0, torch.Size([]))"
      ]
     },
     "execution_count": 8,
     "metadata": {},
     "output_type": "execute_result"
    }
   ],
   "source": [
    "scalar=torch.tensor(7)\n",
    "scalar.ndim,scalar.shape"
   ]
  },
  {
   "cell_type": "markdown",
   "id": "e4a32b0f3409a661",
   "metadata": {},
   "source": [
    "### Vector\n",
    "Vectors are 2d array having 1 dimesion\n"
   ]
  },
  {
   "cell_type": "code",
   "execution_count": 9,
   "id": "b871b5ced8c84262",
   "metadata": {
    "ExecuteTime": {
     "end_time": "2025-04-06T15:50:25.698859Z",
     "start_time": "2025-04-06T15:50:25.693699Z"
    }
   },
   "outputs": [
    {
     "data": {
      "text/plain": [
       "(torch.Size([1, 5]), 2)"
      ]
     },
     "execution_count": 9,
     "metadata": {},
     "output_type": "execute_result"
    }
   ],
   "source": [
    "vector=torch.tensor([[1,2,3,4,5]])\n",
    "vector.shape,vector.ndim"
   ]
  },
  {
   "cell_type": "markdown",
   "id": "beba0416c39cc0a4",
   "metadata": {},
   "source": [
    "### Matrix\n",
    "Matrix are 2d arrays and have dimesion of 2\n"
   ]
  },
  {
   "cell_type": "code",
   "execution_count": 11,
   "id": "5a7e1ad903337a6c",
   "metadata": {
    "ExecuteTime": {
     "end_time": "2025-04-06T15:53:22.055864Z",
     "start_time": "2025-04-06T15:53:22.051917Z"
    }
   },
   "outputs": [
    {
     "data": {
      "text/plain": [
       "(torch.Size([1, 5]), 2)"
      ]
     },
     "execution_count": 11,
     "metadata": {},
     "output_type": "execute_result"
    }
   ],
   "source": [
    "MATRIX=torch.tensor([[1,2,3,4,5]])\n",
    "MATRIX.shape,MATRIX.ndim"
   ]
  },
  {
   "cell_type": "markdown",
   "id": "a9c48ced18dc8f0a",
   "metadata": {},
   "source": [
    "### Tensors\n",
    "It are 3-d and have 3 brackets\n"
   ]
  },
  {
   "cell_type": "code",
   "execution_count": 10,
   "id": "93fd85f17fc91da0",
   "metadata": {
    "ExecuteTime": {
     "end_time": "2025-04-06T15:51:59.075022Z",
     "start_time": "2025-04-06T15:51:59.068713Z"
    }
   },
   "outputs": [
    {
     "data": {
      "text/plain": [
       "(torch.Size([2, 1, 5]), 3)"
      ]
     },
     "execution_count": 10,
     "metadata": {},
     "output_type": "execute_result"
    }
   ],
   "source": [
    "TENSOR=torch.tensor([[[1,2,3,4,5]],[[6,7,8,9,10]]])\n",
    "TENSOR.shape,TENSOR.ndim"
   ]
  },
  {
   "cell_type": "markdown",
   "id": "72494a438c586d23",
   "metadata": {},
   "source": []
  },
  {
   "cell_type": "markdown",
   "id": "69c84fcf32c23cd8",
   "metadata": {},
   "source": [
    "## Creating and using Random Tensors"
   ]
  },
  {
   "cell_type": "markdown",
   "id": "33368d35b55a82f6",
   "metadata": {},
   "source": [
    "We can create Random tensor with the help cmd `torch.rand()`\n",
    "<br> In this we use input paratmer like m,n for shape of tensor\n"
   ]
  },
  {
   "cell_type": "code",
   "execution_count": 22,
   "id": "13dd78012d3cf65c",
   "metadata": {
    "ExecuteTime": {
     "end_time": "2025-04-06T16:00:56.874423Z",
     "start_time": "2025-04-06T16:00:56.869767Z"
    }
   },
   "outputs": [
    {
     "data": {
      "text/plain": [
       "tensor([[0.2478, 0.0361, 0.9543, 0.7371],\n",
       "        [0.2264, 0.8855, 0.4183, 0.9745],\n",
       "        [0.0852, 0.1160, 0.9509, 0.9216]])"
      ]
     },
     "execution_count": 22,
     "metadata": {},
     "output_type": "execute_result"
    }
   ],
   "source": [
    "random_tensor=torch.rand(size=(3,4))\n",
    "random_tensor"
   ]
  },
  {
   "cell_type": "code",
   "execution_count": 13,
   "id": "b555a34384f3b77f",
   "metadata": {
    "ExecuteTime": {
     "end_time": "2025-04-06T16:00:08.304667Z",
     "start_time": "2025-04-06T16:00:08.301286Z"
    }
   },
   "outputs": [
    {
     "data": {
      "text/plain": [
       "(torch.Size([3, 4]), torch.Size([3, 4]))"
      ]
     },
     "execution_count": 13,
     "metadata": {},
     "output_type": "execute_result"
    }
   ],
   "source": [
    "random_tensor.shape,random_tensor.shape"
   ]
  },
  {
   "cell_type": "markdown",
   "id": "d941b159390396b9",
   "metadata": {},
   "source": [
    "We can create matrix with all zero using `torch.zeros(size=(x,y))` fucntion and same goes for ones `torch.ones(size(x,y))`\n"
   ]
  },
  {
   "cell_type": "code",
   "execution_count": 23,
   "id": "71167af27089eab3",
   "metadata": {
    "ExecuteTime": {
     "end_time": "2025-04-06T16:03:02.055574Z",
     "start_time": "2025-04-06T16:03:02.051145Z"
    }
   },
   "outputs": [
    {
     "data": {
      "text/plain": [
       "tensor([[0., 0., 0., 0.],\n",
       "        [0., 0., 0., 0.],\n",
       "        [0., 0., 0., 0.]])"
      ]
     },
     "execution_count": 23,
     "metadata": {},
     "output_type": "execute_result"
    }
   ],
   "source": [
    "zeros=torch.zeros(size=(3,4))\n",
    "zeros"
   ]
  },
  {
   "cell_type": "markdown",
   "id": "17d2ead1099fec8",
   "metadata": {},
   "source": [
    "### Range in tensors"
   ]
  },
  {
   "cell_type": "markdown",
   "id": "df023a4d76f46531",
   "metadata": {},
   "source": [
    "`torch.range(0,10)` || `torch.arange(1,10)`\n",
    "<br>\n",
    "step=used to add (+steps)\n",
    "\n"
   ]
  },
  {
   "cell_type": "code",
   "execution_count": 28,
   "id": "fc394f679feb6f7c",
   "metadata": {
    "ExecuteTime": {
     "end_time": "2025-04-06T16:08:14.829918Z",
     "start_time": "2025-04-06T16:08:14.825946Z"
    }
   },
   "outputs": [
    {
     "data": {
      "text/plain": [
       "tensor([ 0,  2,  4,  6,  8, 10])"
      ]
     },
     "execution_count": 28,
     "metadata": {},
     "output_type": "execute_result"
    }
   ],
   "source": [
    "one_to_tens=torch.arange(0,11,step=2)\n",
    "one_to_tens"
   ]
  },
  {
   "cell_type": "markdown",
   "id": "3a11cacbf432a916",
   "metadata": {},
   "source": [
    "### creating a tensor of same shape"
   ]
  },
  {
   "cell_type": "code",
   "execution_count": 30,
   "id": "36c55e46fb1bcd88",
   "metadata": {
    "ExecuteTime": {
     "end_time": "2025-04-06T16:08:27.535120Z",
     "start_time": "2025-04-06T16:08:27.528804Z"
    }
   },
   "outputs": [
    {
     "data": {
      "text/plain": [
       "tensor([1, 1, 1, 1, 1, 1])"
      ]
     },
     "execution_count": 30,
     "metadata": {},
     "output_type": "execute_result"
    }
   ],
   "source": [
    "one_to_tens_ones=torch.ones_like(input=one_to_tens)\n",
    "one_to_tens_ones"
   ]
  },
  {
   "cell_type": "markdown",
   "id": "2a8889e26bef0d41",
   "metadata": {},
   "source": [
    "### Tensor Dtypes\n"
   ]
  },
  {
   "cell_type": "markdown",
   "id": "b821d4331a7b74a6",
   "metadata": {},
   "source": [
    "Precision is used for details in\n",
    "<br>\n",
    "**Note** It gives us 3 Errors\n",
    "1. Tensor not right Dtype\n",
    "2. Tensor not in correct shape\n",
    "3. Tensor on not on right Device\n",
    "\n",
    "| Datatype | Symbol  | Role                  |\n",
    "|----------|---------|-----------------------|\n",
    "| float32  | none    | used for float 32 bit |\n",
    "| float16  | float16 |                       |\n",
    "|"
   ]
  },
  {
   "cell_type": "code",
   "execution_count": 38,
   "id": "1e75f2816a51f23d",
   "metadata": {
    "ExecuteTime": {
     "end_time": "2025-04-06T17:52:00.165824Z",
     "start_time": "2025-04-06T17:52:00.153523Z"
    }
   },
   "outputs": [
    {
     "data": {
      "text/plain": [
       "tensor([[[ 1,  2,  3,  4,  5]],\n",
       "\n",
       "        [[ 6,  7,  8,  9, 10]]], device='cuda:0')"
      ]
     },
     "execution_count": 38,
     "metadata": {},
     "output_type": "execute_result"
    }
   ],
   "source": [
    "float_32_tensor=torch.tensor([[[1,2,3,4,5]],[[6,7,8,9,10]]],\n",
    "                             dtype=None,\n",
    "                             device=\"cuda\")\n",
    "\n",
    "float_32_tensor"
   ]
  },
  {
   "cell_type": "code",
   "execution_count": 39,
   "id": "822ca9fb726510cc",
   "metadata": {
    "ExecuteTime": {
     "end_time": "2025-04-06T17:52:02.463631Z",
     "start_time": "2025-04-06T17:52:02.436168Z"
    }
   },
   "outputs": [
    {
     "data": {
      "text/plain": [
       "tensor([[[ 1.,  2.,  3.,  4.,  5.]],\n",
       "\n",
       "        [[ 6.,  7.,  8.,  9., 10.]]], device='cuda:0', dtype=torch.float16)"
      ]
     },
     "execution_count": 39,
     "metadata": {},
     "output_type": "execute_result"
    }
   ],
   "source": [
    "#Solving not right Datatype tensor\n",
    "float_16_tensor=float_32_tensor.type(torch.float16)\n",
    "float_16_tensor"
   ]
  },
  {
   "cell_type": "markdown",
   "id": "7ef5f489184c236d",
   "metadata": {},
   "source": [
    "## Getting information from tensor and manipulating tensors"
   ]
  },
  {
   "cell_type": "markdown",
   "id": "a26e722d0e6ae32d",
   "metadata": {},
   "source": [
    "### Extracting informations:\n",
    "1. to get datatype we can use `tensor.dtype`\n",
    "2. to get shape we can use `tensor.shape`\n",
    "3. to get right device `tensor.device`"
   ]
  },
  {
   "cell_type": "code",
   "execution_count": 45,
   "id": "bb491353044eb4d4",
   "metadata": {
    "ExecuteTime": {
     "end_time": "2025-04-06T17:56:50.774535Z",
     "start_time": "2025-04-06T17:56:50.768856Z"
    }
   },
   "outputs": [
    {
     "name": "stdout",
     "output_type": "stream",
     "text": [
      "dataype of random tensor : torch.float32\n",
      "shape of random tensor : torch.Size([3, 4])\n",
      "device of random tensor : cpu\n"
     ]
    }
   ],
   "source": [
    "print(f\"dataype of random tensor : {random_tensor.dtype}\")\n",
    "print(f\"shape of random tensor : {random_tensor.shape}\")\n",
    "print(f\"device of random tensor : {random_tensor.device}\")"
   ]
  },
  {
   "cell_type": "markdown",
   "id": "66a92fe07ab4bf43",
   "metadata": {},
   "source": [
    "### Manipulating tensors"
   ]
  },
  {
   "cell_type": "markdown",
   "id": "3dc37b7305fa26c",
   "metadata": {},
   "source": [
    "**Operations**\n",
    "1. Addition\n",
    "2. Subtraction\n",
    "3. Multiplication\n",
    "4. Division\n",
    "5. Matrix Multiplication"
   ]
  },
  {
   "cell_type": "code",
   "execution_count": 47,
   "id": "1127fd67ce9c8b43",
   "metadata": {
    "ExecuteTime": {
     "end_time": "2025-04-06T17:59:48.448033Z",
     "start_time": "2025-04-06T17:59:48.444142Z"
    }
   },
   "outputs": [
    {
     "data": {
      "text/plain": [
       "tensor([11, 12, 13])"
      ]
     },
     "execution_count": 47,
     "metadata": {},
     "output_type": "execute_result"
    }
   ],
   "source": [
    "#creating the tensor\n",
    "tensor=torch.tensor([1,2,3])\n",
    "tensor+10"
   ]
  },
  {
   "cell_type": "code",
   "execution_count": 49,
   "id": "46c4d806e8015a3c",
   "metadata": {
    "ExecuteTime": {
     "end_time": "2025-04-06T18:00:02.222738Z",
     "start_time": "2025-04-06T18:00:02.214680Z"
    }
   },
   "outputs": [
    {
     "data": {
      "text/plain": [
       "tensor([10, 20, 30])"
      ]
     },
     "execution_count": 49,
     "metadata": {},
     "output_type": "execute_result"
    }
   ],
   "source": [
    "tensor*10"
   ]
  },
  {
   "cell_type": "code",
   "execution_count": 48,
   "id": "eeb944a88969421d",
   "metadata": {
    "ExecuteTime": {
     "end_time": "2025-04-06T17:59:55.884734Z",
     "start_time": "2025-04-06T17:59:55.874726Z"
    }
   },
   "outputs": [
    {
     "data": {
      "text/plain": [
       "tensor([-9, -8, -7])"
      ]
     },
     "execution_count": 48,
     "metadata": {},
     "output_type": "execute_result"
    }
   ],
   "source": [
    "tensor-10"
   ]
  },
  {
   "cell_type": "code",
   "execution_count": 50,
   "id": "2f5301986f4cfb2c",
   "metadata": {
    "ExecuteTime": {
     "end_time": "2025-04-06T18:00:08.900818Z",
     "start_time": "2025-04-06T18:00:08.894480Z"
    }
   },
   "outputs": [
    {
     "data": {
      "text/plain": [
       "tensor([0.1000, 0.2000, 0.3000])"
      ]
     },
     "execution_count": 50,
     "metadata": {},
     "output_type": "execute_result"
    }
   ],
   "source": [
    "tensor/10"
   ]
  },
  {
   "cell_type": "markdown",
   "id": "f8928e5ed4b85600",
   "metadata": {},
   "source": [
    "**Matrix Multiplication** most common operation\n",
    "Rules for Matrix multiplications<br>\n",
    "Both of this syntax work\n",
    "`matmul`\n",
    "`mm`"
   ]
  },
  {
   "cell_type": "code",
   "execution_count": 55,
   "id": "f4373c59b621544d",
   "metadata": {
    "ExecuteTime": {
     "end_time": "2025-04-06T18:06:37.727403Z",
     "start_time": "2025-04-06T18:06:37.721199Z"
    }
   },
   "outputs": [
    {
     "data": {
      "text/plain": [
       "tensor([[0.7745, 0.1920],\n",
       "        [0.9816, 0.2451]])"
      ]
     },
     "execution_count": 55,
     "metadata": {},
     "output_type": "execute_result"
    }
   ],
   "source": [
    "tensor1=torch.rand(2,2)\n",
    "tensor2=torch.rand(2,2)\n",
    "\n",
    "torch.matmul(tensor1,tensor2)"
   ]
  },
  {
   "cell_type": "markdown",
   "id": "c9a3630aced8ea1",
   "metadata": {},
   "source": [
    "### How to solve Shape error\n",
    "We can use transpose it switches axis and dimensions of tensor\n"
   ]
  },
  {
   "cell_type": "code",
   "execution_count": 64,
   "id": "b10fd86ef7d0cc99",
   "metadata": {
    "ExecuteTime": {
     "end_time": "2025-04-06T18:17:29.355162Z",
     "start_time": "2025-04-06T18:17:29.338768Z"
    }
   },
   "outputs": [
    {
     "ename": "RuntimeError",
     "evalue": "mat1 and mat2 shapes cannot be multiplied (3x2 and 3x2)",
     "output_type": "error",
     "traceback": [
      "\u001b[31m---------------------------------------------------------------------------\u001b[39m",
      "\u001b[31mRuntimeError\u001b[39m                              Traceback (most recent call last)",
      "\u001b[36mCell\u001b[39m\u001b[36m \u001b[39m\u001b[32mIn[64]\u001b[39m\u001b[32m, line 8\u001b[39m\n\u001b[32m      1\u001b[39m tensor_A=torch.tensor([[\u001b[32m1\u001b[39m,\u001b[32m2\u001b[39m],\n\u001b[32m      2\u001b[39m                        [\u001b[32m2\u001b[39m,\u001b[32m3\u001b[39m],\n\u001b[32m      3\u001b[39m                        [\u001b[32m4\u001b[39m,\u001b[32m5\u001b[39m]])\n\u001b[32m      5\u001b[39m tensor_B=torch.tensor([[\u001b[32m7\u001b[39m,\u001b[32m8\u001b[39m],\n\u001b[32m      6\u001b[39m                        [\u001b[32m9\u001b[39m,\u001b[32m10\u001b[39m],\n\u001b[32m      7\u001b[39m                        [\u001b[32m11\u001b[39m,\u001b[32m12\u001b[39m]])\n\u001b[32m----> \u001b[39m\u001b[32m8\u001b[39m \u001b[43mtorch\u001b[49m\u001b[43m.\u001b[49m\u001b[43mmatmul\u001b[49m\u001b[43m(\u001b[49m\u001b[43mtensor_A\u001b[49m\u001b[43m,\u001b[49m\u001b[43mtensor_B\u001b[49m\u001b[43m)\u001b[49m\n",
      "\u001b[31mRuntimeError\u001b[39m: mat1 and mat2 shapes cannot be multiplied (3x2 and 3x2)"
     ]
    }
   ],
   "source": [
    "tensor_A=torch.tensor([[1,2],\n",
    "                       [2,3],\n",
    "                       [4,5]])\n",
    "\n",
    "tensor_B=torch.tensor([[7,8],\n",
    "                       [9,10],\n",
    "                       [11,12]])\n",
    "torch.matmul(tensor_A,tensor_B)  #this error is solved after 2 cells"
   ]
  },
  {
   "cell_type": "code",
   "execution_count": 60,
   "id": "7d0a1779d33f34b0",
   "metadata": {
    "ExecuteTime": {
     "end_time": "2025-04-06T18:14:48.297617Z",
     "start_time": "2025-04-06T18:14:48.282266Z"
    }
   },
   "outputs": [
    {
     "data": {
      "text/plain": [
       "tensor([[ 7,  9, 11],\n",
       "        [ 8, 10, 12]])"
      ]
     },
     "execution_count": 60,
     "metadata": {},
     "output_type": "execute_result"
    }
   ],
   "source": [
    "tensor_B.T"
   ]
  },
  {
   "cell_type": "code",
   "execution_count": 62,
   "id": "3794afaa1d56cd60",
   "metadata": {
    "ExecuteTime": {
     "end_time": "2025-04-06T18:15:30.909915Z",
     "start_time": "2025-04-06T18:15:30.903633Z"
    }
   },
   "outputs": [
    {
     "data": {
      "text/plain": [
       "tensor([[ 23,  29,  35],\n",
       "        [ 38,  48,  58],\n",
       "        [ 68,  86, 104]])"
      ]
     },
     "execution_count": 62,
     "metadata": {},
     "output_type": "execute_result"
    }
   ],
   "source": [
    "torch.matmul(tensor_A,tensor_B.T)"
   ]
  },
  {
   "cell_type": "markdown",
   "id": "8a165b13d4d4ff21",
   "metadata": {},
   "source": [
    "### Findind tensor aggration\n",
    "1. Min\n",
    "2. Max\n",
    "3. Mean\n",
    "4. Sum"
   ]
  },
  {
   "cell_type": "code",
   "execution_count": 66,
   "id": "6f72309664cc4e45",
   "metadata": {
    "ExecuteTime": {
     "end_time": "2025-04-06T18:18:33.799813Z",
     "start_time": "2025-04-06T18:18:33.795084Z"
    }
   },
   "outputs": [
    {
     "data": {
      "text/plain": [
       "tensor([ 0, 10, 20, 30, 40, 50, 60, 70, 80, 90])"
      ]
     },
     "execution_count": 66,
     "metadata": {},
     "output_type": "execute_result"
    }
   ],
   "source": [
    "tensor=torch.arange(0,100,10)\n",
    "tensor"
   ]
  },
  {
   "cell_type": "code",
   "execution_count": 75,
   "id": "4ab6b81d8cb2e6d8",
   "metadata": {
    "ExecuteTime": {
     "end_time": "2025-04-06T18:21:20.154821Z",
     "start_time": "2025-04-06T18:21:20.151176Z"
    }
   },
   "outputs": [
    {
     "name": "stdout",
     "output_type": "stream",
     "text": [
      "min of tensor : 0\n",
      "max of tensor : 90\n",
      "mean of tensor : 45.0\n"
     ]
    }
   ],
   "source": [
    "print(f'min of tensor : {tensor.min()}')\n",
    "print(f'max of tensor : {tensor.max()}')\n",
    "print(f\"mean of tensor : {tensor.type(torch.float32).mean()}\")"
   ]
  },
  {
   "cell_type": "markdown",
   "id": "cced7fb6a46410f",
   "metadata": {},
   "source": [
    "Timestamp:2:54:29"
   ]
  }
 ],
 "metadata": {
  "kernelspec": {
   "display_name": "Python 3 (ipykernel)",
   "language": "python",
   "name": "python3"
  },
  "language_info": {
   "codemirror_mode": {
    "name": "ipython",
    "version": 3
   },
   "file_extension": ".py",
   "mimetype": "text/x-python",
   "name": "python",
   "nbconvert_exporter": "python",
   "pygments_lexer": "ipython3",
   "version": "3.13.2"
  }
 },
 "nbformat": 4,
 "nbformat_minor": 5
}
