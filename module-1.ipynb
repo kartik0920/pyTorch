{
 "cells": [
  {
   "cell_type": "code",
   "id": "5b002cee1977a8c2",
   "metadata": {
    "ExecuteTime": {
     "end_time": "2025-04-07T16:49:49.408511Z",
     "start_time": "2025-04-07T16:49:46.688387Z"
    }
   },
   "source": [
    "!pip3 install torch torchvision torchaudio --index-url https://download.pytorch.org/whl/cu126"
   ],
   "outputs": [
    {
     "name": "stdout",
     "output_type": "stream",
     "text": [
      "Looking in indexes: https://download.pytorch.org/whl/cu126\n",
      "Requirement already satisfied: torch in c:\\users\\karti\\appdata\\local\\programs\\python\\python313\\lib\\site-packages (2.6.0+cu126)\n",
      "Requirement already satisfied: torchvision in c:\\users\\karti\\appdata\\local\\programs\\python\\python313\\lib\\site-packages (0.21.0+cu126)\n",
      "Requirement already satisfied: torchaudio in c:\\users\\karti\\appdata\\local\\programs\\python\\python313\\lib\\site-packages (2.6.0+cu126)\n",
      "Requirement already satisfied: filelock in c:\\users\\karti\\appdata\\local\\programs\\python\\python313\\lib\\site-packages (from torch) (3.13.1)\n",
      "Requirement already satisfied: typing-extensions>=4.10.0 in c:\\users\\karti\\appdata\\local\\programs\\python\\python313\\lib\\site-packages (from torch) (4.12.2)\n",
      "Requirement already satisfied: networkx in c:\\users\\karti\\appdata\\local\\programs\\python\\python313\\lib\\site-packages (from torch) (3.3)\n",
      "Requirement already satisfied: jinja2 in c:\\users\\karti\\appdata\\local\\programs\\python\\python313\\lib\\site-packages (from torch) (3.1.4)\n",
      "Requirement already satisfied: fsspec in c:\\users\\karti\\appdata\\local\\programs\\python\\python313\\lib\\site-packages (from torch) (2024.6.1)\n",
      "Requirement already satisfied: setuptools in c:\\users\\karti\\appdata\\local\\programs\\python\\python313\\lib\\site-packages (from torch) (70.2.0)\n",
      "Requirement already satisfied: sympy==1.13.1 in c:\\users\\karti\\appdata\\local\\programs\\python\\python313\\lib\\site-packages (from torch) (1.13.1)\n",
      "Requirement already satisfied: mpmath<1.4,>=1.1.0 in c:\\users\\karti\\appdata\\local\\programs\\python\\python313\\lib\\site-packages (from sympy==1.13.1->torch) (1.3.0)\n",
      "Requirement already satisfied: numpy in c:\\users\\karti\\appdata\\local\\programs\\python\\python313\\lib\\site-packages (from torchvision) (2.2.4)\n",
      "Requirement already satisfied: pillow!=8.3.*,>=5.3.0 in c:\\users\\karti\\appdata\\local\\programs\\python\\python313\\lib\\site-packages (from torchvision) (11.0.0)\n",
      "Requirement already satisfied: MarkupSafe>=2.0 in c:\\users\\karti\\appdata\\local\\programs\\python\\python313\\lib\\site-packages (from jinja2->torch) (2.1.5)\n"
     ]
    },
    {
     "name": "stderr",
     "output_type": "stream",
     "text": [
      "\n",
      "[notice] A new release of pip is available: 23.2.1 -> 25.0.1\n",
      "[notice] To update, run: python.exe -m pip install --upgrade pip\n"
     ]
    }
   ],
   "execution_count": 2
  },
  {
   "cell_type": "code",
   "id": "initial_id",
   "metadata": {
    "collapsed": true,
    "jupyter": {
     "outputs_hidden": true
    },
    "ExecuteTime": {
     "end_time": "2025-04-07T16:50:00.878487Z",
     "start_time": "2025-04-07T16:49:49.446806Z"
    }
   },
   "source": [
    "import torch\n",
    "import matplotlib.pyplot as plt\n",
    "import numpy as np\n",
    "import pandas as pd"
   ],
   "outputs": [],
   "execution_count": 3
  },
  {
   "cell_type": "code",
   "id": "a50507fded7191de",
   "metadata": {
    "ExecuteTime": {
     "end_time": "2025-04-07T16:50:00.925756Z",
     "start_time": "2025-04-07T16:50:00.921800Z"
    }
   },
   "source": [
    "print(torch.__version__)"
   ],
   "outputs": [
    {
     "name": "stdout",
     "output_type": "stream",
     "text": [
      "2.6.0+cu126\n"
     ]
    }
   ],
   "execution_count": 4
  },
  {
   "cell_type": "markdown",
   "id": "b91b34d96e9a534f",
   "metadata": {},
   "source": [
    "# Tensors in PyTorch\n"
   ]
  },
  {
   "cell_type": "markdown",
   "id": "948531511b37ed27",
   "metadata": {},
   "source": [
    "## Types of Tensors\n"
   ]
  },
  {
   "cell_type": "markdown",
   "id": "ebc25b19e33f2253",
   "metadata": {},
   "source": [
    "### Scalars\n",
    "It is Used to create 1D array or 0th dimension tensor"
   ]
  },
  {
   "cell_type": "code",
   "id": "1a3beb7081aa9683",
   "metadata": {
    "ExecuteTime": {
     "end_time": "2025-04-07T16:50:00.971786Z",
     "start_time": "2025-04-07T16:50:00.956961Z"
    }
   },
   "source": [
    "scalar=torch.tensor(7)\n",
    "scalar.ndim,scalar.shape"
   ],
   "outputs": [
    {
     "data": {
      "text/plain": [
       "(0, torch.Size([]))"
      ]
     },
     "execution_count": 5,
     "metadata": {},
     "output_type": "execute_result"
    }
   ],
   "execution_count": 5
  },
  {
   "cell_type": "markdown",
   "id": "e4a32b0f3409a661",
   "metadata": {},
   "source": [
    "### Vector\n",
    "Vectors are 2d array having 1 dimension\n"
   ]
  },
  {
   "cell_type": "code",
   "id": "b871b5ced8c84262",
   "metadata": {
    "ExecuteTime": {
     "end_time": "2025-04-07T16:50:01.003171Z",
     "start_time": "2025-04-07T16:50:00.999924Z"
    }
   },
   "source": [
    "vector=torch.tensor([1,2,3,4,5])\n",
    "vector.shape,vector.ndim"
   ],
   "outputs": [
    {
     "data": {
      "text/plain": [
       "(torch.Size([1, 5]), 2)"
      ]
     },
     "execution_count": 6,
     "metadata": {},
     "output_type": "execute_result"
    }
   ],
   "execution_count": 6
  },
  {
   "cell_type": "markdown",
   "id": "beba0416c39cc0a4",
   "metadata": {},
   "source": [
    "### Matrix\n",
    "Matrix are 2d arrays and have dimension of 2\n"
   ]
  },
  {
   "cell_type": "code",
   "id": "5a7e1ad903337a6c",
   "metadata": {
    "ExecuteTime": {
     "end_time": "2025-04-07T16:50:01.027778Z",
     "start_time": "2025-04-07T16:50:01.024134Z"
    }
   },
   "source": [
    "MATRIX=torch.tensor([[1,2,3,4,5]])\n",
    "MATRIX.shape,MATRIX.ndim"
   ],
   "outputs": [
    {
     "data": {
      "text/plain": [
       "(torch.Size([1, 5]), 2)"
      ]
     },
     "execution_count": 7,
     "metadata": {},
     "output_type": "execute_result"
    }
   ],
   "execution_count": 7
  },
  {
   "cell_type": "markdown",
   "id": "a9c48ced18dc8f0a",
   "metadata": {},
   "source": [
    "### Tensors\n",
    "It is 3-d and have 3 brackets\n"
   ]
  },
  {
   "cell_type": "code",
   "id": "93fd85f17fc91da0",
   "metadata": {
    "ExecuteTime": {
     "end_time": "2025-04-07T16:50:01.058053Z",
     "start_time": "2025-04-07T16:50:01.053939Z"
    }
   },
   "source": [
    "TENSOR=torch.tensor([[[1,2,3,4,5]],[[6,7,8,9,10]]])\n",
    "TENSOR.shape,TENSOR.ndim"
   ],
   "outputs": [
    {
     "data": {
      "text/plain": [
       "(torch.Size([2, 1, 5]), 3)"
      ]
     },
     "execution_count": 8,
     "metadata": {},
     "output_type": "execute_result"
    }
   ],
   "execution_count": 8
  },
  {
   "cell_type": "markdown",
   "id": "72494a438c586d23",
   "metadata": {},
   "source": []
  },
  {
   "cell_type": "markdown",
   "id": "69c84fcf32c23cd8",
   "metadata": {},
   "source": [
    "## Creating and using Random Tensors"
   ]
  },
  {
   "cell_type": "markdown",
   "id": "33368d35b55a82f6",
   "metadata": {},
   "source": [
    "We can create Random tensor with the help cmd `torch.rand()`\n",
    "<br> In this we use input parameters like m,n for shape of tensor\n"
   ]
  },
  {
   "cell_type": "code",
   "id": "13dd78012d3cf65c",
   "metadata": {
    "ExecuteTime": {
     "end_time": "2025-04-07T16:50:01.123798Z",
     "start_time": "2025-04-07T16:50:01.085233Z"
    }
   },
   "source": [
    "random_tensor=torch.rand(size=(3,4))\n",
    "random_tensor"
   ],
   "outputs": [
    {
     "data": {
      "text/plain": [
       "tensor([[0.8188, 0.4593, 0.6171, 0.7699],\n",
       "        [0.4196, 0.9346, 0.7815, 0.4236],\n",
       "        [0.2532, 0.6381, 0.6068, 0.5587]])"
      ]
     },
     "execution_count": 9,
     "metadata": {},
     "output_type": "execute_result"
    }
   ],
   "execution_count": 9
  },
  {
   "cell_type": "code",
   "id": "b555a34384f3b77f",
   "metadata": {
    "ExecuteTime": {
     "end_time": "2025-04-07T16:50:01.147301Z",
     "start_time": "2025-04-07T16:50:01.143541Z"
    }
   },
   "source": [
    "random_tensor.shape,random_tensor.shape"
   ],
   "outputs": [
    {
     "data": {
      "text/plain": [
       "(torch.Size([3, 4]), torch.Size([3, 4]))"
      ]
     },
     "execution_count": 10,
     "metadata": {},
     "output_type": "execute_result"
    }
   ],
   "execution_count": 10
  },
  {
   "cell_type": "markdown",
   "id": "d941b159390396b9",
   "metadata": {},
   "source": "We can create matrix with all zero using `torch.zeros(size=(x,y))` function and same goes for ones `torch.ones(size(x,y))`\n"
  },
  {
   "cell_type": "code",
   "id": "71167af27089eab3",
   "metadata": {
    "ExecuteTime": {
     "end_time": "2025-04-07T16:50:01.204695Z",
     "start_time": "2025-04-07T16:50:01.200441Z"
    }
   },
   "source": [
    "zeros=torch.zeros(size=(3,4))\n",
    "zeros"
   ],
   "outputs": [
    {
     "data": {
      "text/plain": [
       "tensor([[0., 0., 0., 0.],\n",
       "        [0., 0., 0., 0.],\n",
       "        [0., 0., 0., 0.]])"
      ]
     },
     "execution_count": 11,
     "metadata": {},
     "output_type": "execute_result"
    }
   ],
   "execution_count": 11
  },
  {
   "cell_type": "markdown",
   "id": "17d2ead1099fec8",
   "metadata": {},
   "source": [
    "### Range in tensors"
   ]
  },
  {
   "cell_type": "markdown",
   "id": "df023a4d76f46531",
   "metadata": {},
   "source": [
    "`torch.range(0,10)` || `torch.arange(1,10)`\n",
    "<br>\n",
    "step=used to add (+steps)\n",
    "\n"
   ]
  },
  {
   "cell_type": "code",
   "id": "fc394f679feb6f7c",
   "metadata": {
    "ExecuteTime": {
     "end_time": "2025-04-07T16:50:01.225314Z",
     "start_time": "2025-04-07T16:50:01.214715Z"
    }
   },
   "source": [
    "one_to_tens=torch.arange(0,11,step=2)\n",
    "one_to_tens"
   ],
   "outputs": [
    {
     "data": {
      "text/plain": [
       "tensor([ 0,  2,  4,  6,  8, 10])"
      ]
     },
     "execution_count": 12,
     "metadata": {},
     "output_type": "execute_result"
    }
   ],
   "execution_count": 12
  },
  {
   "cell_type": "markdown",
   "id": "3a11cacbf432a916",
   "metadata": {},
   "source": [
    "### creating a tensor of same shape"
   ]
  },
  {
   "cell_type": "code",
   "id": "36c55e46fb1bcd88",
   "metadata": {
    "ExecuteTime": {
     "end_time": "2025-04-07T16:50:01.474780Z",
     "start_time": "2025-04-07T16:50:01.468454Z"
    }
   },
   "source": [
    "one_to_tens_ones=torch.ones_like(input=one_to_tens)\n",
    "one_to_tens_ones"
   ],
   "outputs": [
    {
     "data": {
      "text/plain": [
       "tensor([1, 1, 1, 1, 1, 1])"
      ]
     },
     "execution_count": 13,
     "metadata": {},
     "output_type": "execute_result"
    }
   ],
   "execution_count": 13
  },
  {
   "cell_type": "markdown",
   "id": "2a8889e26bef0d41",
   "metadata": {},
   "source": [
    "### Tensor Dtypes\n"
   ]
  },
  {
   "cell_type": "markdown",
   "id": "b821d4331a7b74a6",
   "metadata": {},
   "source": [
    "Precision is used for details in\n",
    "<br>\n",
    "**Note** It gives us 3 Errors\n",
    "1. Tensor not right Dtype\n",
    "2. Tensor not in correct shape\n",
    "3. Tensor on not on right Device\n",
    "\n",
    "| Datatype | Symbol  | Role                  |\n",
    "|----------|---------|-----------------------|\n",
    "| float32  | none    | used for float 32 bit |\n",
    "| float16  | float16 |                       |\n",
    "|"
   ]
  },
  {
   "cell_type": "code",
   "id": "1e75f2816a51f23d",
   "metadata": {
    "ExecuteTime": {
     "end_time": "2025-04-07T16:50:02.179256Z",
     "start_time": "2025-04-07T16:50:01.823866Z"
    }
   },
   "source": [
    "float_32_tensor=torch.tensor([[[1,2,3,4,5]],[[6,7,8,9,10]]],\n",
    "                             dtype=None,\n",
    "                             device=\"cuda\")\n",
    "\n",
    "float_32_tensor"
   ],
   "outputs": [
    {
     "data": {
      "text/plain": [
       "tensor([[[ 1,  2,  3,  4,  5]],\n",
       "\n",
       "        [[ 6,  7,  8,  9, 10]]], device='cuda:0')"
      ]
     },
     "execution_count": 14,
     "metadata": {},
     "output_type": "execute_result"
    }
   ],
   "execution_count": 14
  },
  {
   "cell_type": "code",
   "id": "822ca9fb726510cc",
   "metadata": {
    "ExecuteTime": {
     "end_time": "2025-04-07T16:50:02.409220Z",
     "start_time": "2025-04-07T16:50:02.207544Z"
    }
   },
   "source": [
    "#Solving not right Datatype tensor\n",
    "float_16_tensor=float_32_tensor.type(torch.float16)\n",
    "float_16_tensor"
   ],
   "outputs": [
    {
     "data": {
      "text/plain": [
       "tensor([[[ 1.,  2.,  3.,  4.,  5.]],\n",
       "\n",
       "        [[ 6.,  7.,  8.,  9., 10.]]], device='cuda:0', dtype=torch.float16)"
      ]
     },
     "execution_count": 15,
     "metadata": {},
     "output_type": "execute_result"
    }
   ],
   "execution_count": 15
  },
  {
   "cell_type": "markdown",
   "id": "7ef5f489184c236d",
   "metadata": {},
   "source": [
    "## Getting information from tensor and manipulating tensors"
   ]
  },
  {
   "cell_type": "markdown",
   "id": "a26e722d0e6ae32d",
   "metadata": {},
   "source": [
    "### Extracting information:\n",
    "1. to get datatype we can use `tensor.dtype`\n",
    "2. to get shape we can use `tensor.shape`\n",
    "3. to get right device `tensor.device`"
   ]
  },
  {
   "cell_type": "code",
   "id": "bb491353044eb4d4",
   "metadata": {
    "ExecuteTime": {
     "end_time": "2025-04-07T16:50:02.422575Z",
     "start_time": "2025-04-07T16:50:02.419719Z"
    }
   },
   "source": [
    "print(f\"datatype of random tensor : {random_tensor.dtype}\")\n",
    "print(f\"shape of random tensor : {random_tensor.shape}\")\n",
    "print(f\"device of random tensor : {random_tensor.device}\")"
   ],
   "outputs": [
    {
     "name": "stdout",
     "output_type": "stream",
     "text": [
      "datatype of random tensor : torch.float32\n",
      "shape of random tensor : torch.Size([3, 4])\n",
      "device of random tensor : cpu\n"
     ]
    }
   ],
   "execution_count": 16
  },
  {
   "cell_type": "markdown",
   "id": "66a92fe07ab4bf43",
   "metadata": {},
   "source": [
    "### Manipulating tensors"
   ]
  },
  {
   "cell_type": "markdown",
   "id": "3dc37b7305fa26c",
   "metadata": {},
   "source": [
    "**Operations**\n",
    "1. Addition\n",
    "2. Subtraction\n",
    "3. Multiplication\n",
    "4. Division\n",
    "5. Matrix Multiplication"
   ]
  },
  {
   "cell_type": "code",
   "id": "1127fd67ce9c8b43",
   "metadata": {
    "ExecuteTime": {
     "end_time": "2025-04-07T16:50:02.449013Z",
     "start_time": "2025-04-07T16:50:02.443630Z"
    }
   },
   "source": [
    "#creating the tensor\n",
    "tensor=torch.tensor([1,2,3])\n",
    "tensor+10"
   ],
   "outputs": [
    {
     "data": {
      "text/plain": [
       "tensor([11, 12, 13])"
      ]
     },
     "execution_count": 17,
     "metadata": {},
     "output_type": "execute_result"
    }
   ],
   "execution_count": 17
  },
  {
   "cell_type": "code",
   "id": "46c4d806e8015a3c",
   "metadata": {
    "ExecuteTime": {
     "end_time": "2025-04-07T16:50:02.478556Z",
     "start_time": "2025-04-07T16:50:02.473464Z"
    }
   },
   "source": [
    "tensor*10"
   ],
   "outputs": [
    {
     "data": {
      "text/plain": [
       "tensor([10, 20, 30])"
      ]
     },
     "execution_count": 18,
     "metadata": {},
     "output_type": "execute_result"
    }
   ],
   "execution_count": 18
  },
  {
   "cell_type": "code",
   "id": "eeb944a88969421d",
   "metadata": {
    "ExecuteTime": {
     "end_time": "2025-04-07T16:50:02.506582Z",
     "start_time": "2025-04-07T16:50:02.499965Z"
    }
   },
   "source": [
    "tensor-10"
   ],
   "outputs": [
    {
     "data": {
      "text/plain": [
       "tensor([-9, -8, -7])"
      ]
     },
     "execution_count": 19,
     "metadata": {},
     "output_type": "execute_result"
    }
   ],
   "execution_count": 19
  },
  {
   "cell_type": "code",
   "id": "2f5301986f4cfb2c",
   "metadata": {
    "ExecuteTime": {
     "end_time": "2025-04-07T16:50:02.554329Z",
     "start_time": "2025-04-07T16:50:02.548952Z"
    }
   },
   "source": [
    "tensor/10"
   ],
   "outputs": [
    {
     "data": {
      "text/plain": [
       "tensor([0.1000, 0.2000, 0.3000])"
      ]
     },
     "execution_count": 20,
     "metadata": {},
     "output_type": "execute_result"
    }
   ],
   "execution_count": 20
  },
  {
   "cell_type": "markdown",
   "id": "f8928e5ed4b85600",
   "metadata": {},
   "source": [
    "**Matrix Multiplication** most common operation\n",
    "Rules for Matrix multiplications<br>\n",
    "Both of this syntax work\n",
    "`matmul`\n",
    "`mm`"
   ]
  },
  {
   "cell_type": "code",
   "id": "f4373c59b621544d",
   "metadata": {
    "ExecuteTime": {
     "end_time": "2025-04-07T16:50:02.592175Z",
     "start_time": "2025-04-07T16:50:02.575204Z"
    }
   },
   "source": [
    "tensor1=torch.rand(2,2)\n",
    "tensor2=torch.rand(2,2)\n",
    "\n",
    "torch.matmul(tensor1,tensor2)"
   ],
   "outputs": [
    {
     "data": {
      "text/plain": [
       "tensor([[1.0914, 0.9574],\n",
       "        [1.2557, 1.1504]])"
      ]
     },
     "execution_count": 21,
     "metadata": {},
     "output_type": "execute_result"
    }
   ],
   "execution_count": 21
  },
  {
   "cell_type": "markdown",
   "id": "c9a3630aced8ea1",
   "metadata": {},
   "source": [
    "### How to solve Shape error\n",
    "We can use transpose it switches axis and dimensions of tensor\n"
   ]
  },
  {
   "cell_type": "code",
   "id": "b10fd86ef7d0cc99",
   "metadata": {
    "ExecuteTime": {
     "end_time": "2025-04-07T16:50:02.714926Z",
     "start_time": "2025-04-07T16:50:02.636193Z"
    }
   },
   "source": [
    "tensor_A=torch.tensor([[1,2],\n",
    "                       [2,3],\n",
    "                       [4,5]])\n",
    "\n",
    "tensor_B=torch.tensor([[7,8],\n",
    "                       [9,10],\n",
    "                       [11,12]])\n",
    "torch.matmul(tensor_A,tensor_B)  #this error is solved after 2 cells"
   ],
   "outputs": [
    {
     "ename": "RuntimeError",
     "evalue": "mat1 and mat2 shapes cannot be multiplied (3x2 and 3x2)",
     "output_type": "error",
     "traceback": [
      "\u001B[31m---------------------------------------------------------------------------\u001B[39m",
      "\u001B[31mRuntimeError\u001B[39m                              Traceback (most recent call last)",
      "\u001B[36mCell\u001B[39m\u001B[36m \u001B[39m\u001B[32mIn[22]\u001B[39m\u001B[32m, line 8\u001B[39m\n\u001B[32m      1\u001B[39m tensor_A=torch.tensor([[\u001B[32m1\u001B[39m,\u001B[32m2\u001B[39m],\n\u001B[32m      2\u001B[39m                        [\u001B[32m2\u001B[39m,\u001B[32m3\u001B[39m],\n\u001B[32m      3\u001B[39m                        [\u001B[32m4\u001B[39m,\u001B[32m5\u001B[39m]])\n\u001B[32m      5\u001B[39m tensor_B=torch.tensor([[\u001B[32m7\u001B[39m,\u001B[32m8\u001B[39m],\n\u001B[32m      6\u001B[39m                        [\u001B[32m9\u001B[39m,\u001B[32m10\u001B[39m],\n\u001B[32m      7\u001B[39m                        [\u001B[32m11\u001B[39m,\u001B[32m12\u001B[39m]])\n\u001B[32m----> \u001B[39m\u001B[32m8\u001B[39m \u001B[43mtorch\u001B[49m\u001B[43m.\u001B[49m\u001B[43mmatmul\u001B[49m\u001B[43m(\u001B[49m\u001B[43mtensor_A\u001B[49m\u001B[43m,\u001B[49m\u001B[43mtensor_B\u001B[49m\u001B[43m)\u001B[49m  \u001B[38;5;66;03m#this error is solved after 2 cells\u001B[39;00m\n",
      "\u001B[31mRuntimeError\u001B[39m: mat1 and mat2 shapes cannot be multiplied (3x2 and 3x2)"
     ]
    }
   ],
   "execution_count": 22
  },
  {
   "cell_type": "code",
   "id": "7d0a1779d33f34b0",
   "metadata": {
    "ExecuteTime": {
     "end_time": "2025-04-07T16:50:15.737307Z",
     "start_time": "2025-04-07T16:50:15.733430Z"
    }
   },
   "source": [
    "tensor_B.T"
   ],
   "outputs": [
    {
     "data": {
      "text/plain": [
       "tensor([[ 7,  9, 11],\n",
       "        [ 8, 10, 12]])"
      ]
     },
     "execution_count": 24,
     "metadata": {},
     "output_type": "execute_result"
    }
   ],
   "execution_count": 24
  },
  {
   "cell_type": "code",
   "id": "3794afaa1d56cd60",
   "metadata": {
    "ExecuteTime": {
     "end_time": "2025-04-07T16:50:15.789766Z",
     "start_time": "2025-04-07T16:50:15.782296Z"
    }
   },
   "source": [
    "torch.matmul(tensor_A,tensor_B.T)"
   ],
   "outputs": [
    {
     "data": {
      "text/plain": [
       "tensor([[ 23,  29,  35],\n",
       "        [ 38,  48,  58],\n",
       "        [ 68,  86, 104]])"
      ]
     },
     "execution_count": 25,
     "metadata": {},
     "output_type": "execute_result"
    }
   ],
   "execution_count": 25
  },
  {
   "cell_type": "markdown",
   "id": "8a165b13d4d4ff21",
   "metadata": {},
   "source": [
    "### Finding tensor aggregation\n",
    "1. Min\n",
    "2. Max\n",
    "3. Mean\n",
    "4. Sum"
   ]
  },
  {
   "cell_type": "code",
   "id": "6f72309664cc4e45",
   "metadata": {
    "ExecuteTime": {
     "end_time": "2025-04-07T16:50:15.848124Z",
     "start_time": "2025-04-07T16:50:15.843722Z"
    }
   },
   "source": [
    "tensor=torch.arange(0,100,10)\n",
    "tensor"
   ],
   "outputs": [
    {
     "data": {
      "text/plain": [
       "tensor([ 0, 10, 20, 30, 40, 50, 60, 70, 80, 90])"
      ]
     },
     "execution_count": 26,
     "metadata": {},
     "output_type": "execute_result"
    }
   ],
   "execution_count": 26
  },
  {
   "cell_type": "code",
   "id": "4ab6b81d8cb2e6d8",
   "metadata": {
    "ExecuteTime": {
     "end_time": "2025-04-07T16:50:15.973142Z",
     "start_time": "2025-04-07T16:50:15.937519Z"
    }
   },
   "source": [
    "print(f'min of tensor : {tensor.min()}')\n",
    "print(f'max of tensor : {tensor.max()}')\n",
    "print(f\"mean of tensor : {tensor.type(torch.float32).mean()}\")"
   ],
   "outputs": [
    {
     "name": "stdout",
     "output_type": "stream",
     "text": [
      "min of tensor : 0\n",
      "max of tensor : 90\n",
      "mean of tensor : 45.0\n"
     ]
    }
   ],
   "execution_count": 27
  },
  {
   "cell_type": "markdown",
   "id": "cced7fb6a46410f",
   "metadata": {},
   "source": "positional min and mx"
  },
  {
   "metadata": {
    "ExecuteTime": {
     "end_time": "2025-04-07T16:50:16.050380Z",
     "start_time": "2025-04-07T16:50:16.039865Z"
    }
   },
   "cell_type": "code",
   "source": "tensor.argmin(),tensor.argmax()",
   "id": "fba118b27eb90120",
   "outputs": [
    {
     "data": {
      "text/plain": [
       "(tensor(0), tensor(9))"
      ]
     },
     "execution_count": 28,
     "metadata": {},
     "output_type": "execute_result"
    }
   ],
   "execution_count": 28
  },
  {
   "metadata": {},
   "cell_type": "markdown",
   "source": [
    "### Reshaping , Stacking ,Squeezing and squeegeeing\n",
    "\n",
    "* Reshape - reshape tensor by our needs\n",
    "* Stack - Stack the elements\n",
    "* squeeze - remove all one direction removes one square-bracket\n",
    "* unsqueeze - add one direction add one square bracket\n",
    "* view - returns view of certain shape\n"
   ],
   "id": "33b07cbd3be5e8f2"
  },
  {
   "metadata": {
    "ExecuteTime": {
     "end_time": "2025-04-07T16:57:11.998427Z",
     "start_time": "2025-04-07T16:57:11.993267Z"
    }
   },
   "cell_type": "code",
   "source": "tensor=torch.arange(0,100,10)",
   "id": "19998c9c7450ee04",
   "outputs": [],
   "execution_count": 29
  },
  {
   "metadata": {
    "ExecuteTime": {
     "end_time": "2025-04-07T16:58:25.118995Z",
     "start_time": "2025-04-07T16:58:25.114931Z"
    }
   },
   "cell_type": "code",
   "source": [
    "tensor_reshaped=tensor.reshape(2,5)\n",
    "tensor_reshaped,tensor_reshaped.shape"
   ],
   "id": "6a91857e96c0df72",
   "outputs": [
    {
     "data": {
      "text/plain": [
       "(tensor([[ 0, 10, 20, 30, 40],\n",
       "         [50, 60, 70, 80, 90]]),\n",
       " torch.Size([2, 5]))"
      ]
     },
     "execution_count": 38,
     "metadata": {},
     "output_type": "execute_result"
    }
   ],
   "execution_count": 38
  },
  {
   "metadata": {},
   "cell_type": "markdown",
   "source": "## Selecting Data from tensor",
   "id": "ea610f5f8af116a5"
  },
  {
   "metadata": {},
   "cell_type": "markdown",
   "source": "### Indexing --similar to numpy",
   "id": "f65e6f5092c1be5"
  },
  {
   "metadata": {
    "ExecuteTime": {
     "end_time": "2025-04-07T17:06:53.673026Z",
     "start_time": "2025-04-07T17:06:53.667361Z"
    }
   },
   "cell_type": "code",
   "source": "tensor[3]",
   "id": "b5e4aa7d50715a1d",
   "outputs": [
    {
     "data": {
      "text/plain": [
       "tensor(30)"
      ]
     },
     "execution_count": 40,
     "metadata": {},
     "output_type": "execute_result"
    }
   ],
   "execution_count": 40
  },
  {
   "metadata": {},
   "cell_type": "markdown",
   "source": "You can use `:` to  to get elemets",
   "id": "83bec7ce8af9caf8"
  },
  {
   "metadata": {
    "ExecuteTime": {
     "end_time": "2025-04-07T17:08:49.748979Z",
     "start_time": "2025-04-07T17:08:49.744146Z"
    }
   },
   "cell_type": "code",
   "source": "tensor[:3],tensor[:-4]",
   "id": "ba3cbc745f336eed",
   "outputs": [
    {
     "data": {
      "text/plain": [
       "(tensor([ 0, 10, 20]), tensor([ 0, 10, 20, 30, 40, 50]))"
      ]
     },
     "execution_count": 54,
     "metadata": {},
     "output_type": "execute_result"
    }
   ],
   "execution_count": 54
  },
  {
   "metadata": {},
   "cell_type": "markdown",
   "source": "## Pytorch and Numpy",
   "id": "cef4ba8280b02c35"
  },
  {
   "metadata": {},
   "cell_type": "markdown",
   "source": [
    "`torch.from_numpy()` helps to convert array to tensor\n",
    "<br>\n",
    "`torch.Tensor.numpy()` helps to convert array from tensor"
   ],
   "id": "c762ef6e8e730971"
  },
  {
   "metadata": {
    "ExecuteTime": {
     "end_time": "2025-04-07T17:30:05.540128Z",
     "start_time": "2025-04-07T17:30:05.531728Z"
    }
   },
   "cell_type": "code",
   "source": [
    "array=np.array([1,2,3])\n",
    "tensor=torch.from_numpy(array)\n",
    "tensor.shape,tensor"
   ],
   "id": "a5c8d39c5c23217f",
   "outputs": [
    {
     "data": {
      "text/plain": [
       "(torch.Size([3]), tensor([1, 2, 3]))"
      ]
     },
     "execution_count": 55,
     "metadata": {},
     "output_type": "execute_result"
    }
   ],
   "execution_count": 55
  },
  {
   "metadata": {},
   "cell_type": "markdown",
   "source": "**Reproducibility** Helps in maintaining same element in randomness",
   "id": "25d845bf3462095e"
  },
  {
   "metadata": {
    "ExecuteTime": {
     "end_time": "2025-04-08T04:52:21.318180Z",
     "start_time": "2025-04-08T04:52:11.335106Z"
    }
   },
   "cell_type": "code",
   "source": [
    "import torch\n",
    "RANDOM_SEED=42\n",
    "torch.manual_seed(RANDOM_SEED)\n",
    "random_tensor_A=torch.rand(2,2)\n",
    "\n",
    "torch.manual_seed(RANDOM_SEED)\n",
    "random_tensor_B=torch.rand(2, 2)\n",
    "\n",
    "random_tensor_B,random_tensor_B, random_tensor_A == random_tensor_B"
   ],
   "id": "af916c480d128b65",
   "outputs": [
    {
     "data": {
      "text/plain": [
       "(tensor([[0.8823, 0.9150],\n",
       "         [0.3829, 0.9593]]),\n",
       " tensor([[0.8823, 0.9150],\n",
       "         [0.3829, 0.9593]]),\n",
       " tensor([[True, True],\n",
       "         [True, True]]))"
      ]
     },
     "execution_count": 2,
     "metadata": {},
     "output_type": "execute_result"
    }
   ],
   "execution_count": 2
  },
  {
   "metadata": {},
   "cell_type": "markdown",
   "source": "## Acessing GPU",
   "id": "e907af7b36b013ed"
  },
  {
   "metadata": {},
   "cell_type": "markdown",
   "source": "1. Check if GPU is available",
   "id": "f189853556cc2f01"
  },
  {
   "metadata": {
    "ExecuteTime": {
     "end_time": "2025-04-08T04:57:44.800750Z",
     "start_time": "2025-04-08T04:57:43.758856Z"
    }
   },
   "cell_type": "code",
   "source": "!nvidia-smi",
   "id": "53d69bdeecde29de",
   "outputs": [
    {
     "name": "stdout",
     "output_type": "stream",
     "text": [
      "Tue Apr  8 10:27:44 2025       \n",
      "+-----------------------------------------------------------------------------------------+\n",
      "| NVIDIA-SMI 572.83                 Driver Version: 572.83         CUDA Version: 12.8     |\n",
      "|-----------------------------------------+------------------------+----------------------+\n",
      "| GPU  Name                  Driver-Model | Bus-Id          Disp.A | Volatile Uncorr. ECC |\n",
      "| Fan  Temp   Perf          Pwr:Usage/Cap |           Memory-Usage | GPU-Util  Compute M. |\n",
      "|                                         |                        |               MIG M. |\n",
      "|=========================================+========================+======================|\n",
      "|   0  NVIDIA GeForce RTX 4050 ...  WDDM  |   00000000:01:00.0 Off |                  N/A |\n",
      "| N/A   45C    P3             13W /   35W |       0MiB /   6141MiB |      0%      Default |\n",
      "|                                         |                        |                  N/A |\n",
      "+-----------------------------------------+------------------------+----------------------+\n",
      "                                                                                         \n",
      "+-----------------------------------------------------------------------------------------+\n",
      "| Processes:                                                                              |\n",
      "|  GPU   GI   CI              PID   Type   Process name                        GPU Memory |\n",
      "|        ID   ID                                                               Usage      |\n",
      "|=========================================================================================|\n",
      "|  No running processes found                                                             |\n",
      "+-----------------------------------------------------------------------------------------+\n"
     ]
    }
   ],
   "execution_count": 3
  },
  {
   "metadata": {},
   "cell_type": "markdown",
   "source": "2. Checking if cuda have acess to GPU",
   "id": "1ca1ad2b7f2528a6"
  },
  {
   "metadata": {
    "ExecuteTime": {
     "end_time": "2025-04-08T05:03:04.381056Z",
     "start_time": "2025-04-08T05:03:02.761290Z"
    }
   },
   "cell_type": "code",
   "source": "torch.cuda.is_available()",
   "id": "8b6c7c218d68fc67",
   "outputs": [
    {
     "data": {
      "text/plain": [
       "True"
      ]
     },
     "execution_count": 4,
     "metadata": {},
     "output_type": "execute_result"
    }
   ],
   "execution_count": 4
  },
  {
   "metadata": {
    "ExecuteTime": {
     "end_time": "2025-04-08T05:08:01.946045Z",
     "start_time": "2025-04-08T05:08:01.941883Z"
    }
   },
   "cell_type": "code",
   "source": [
    "device=\"cuda\" if torch.cuda.is_available() else \"cpu\"\n",
    "device"
   ],
   "id": "369233d78dccbebc",
   "outputs": [
    {
     "data": {
      "text/plain": [
       "'cuda'"
      ]
     },
     "execution_count": 13,
     "metadata": {},
     "output_type": "execute_result"
    }
   ],
   "execution_count": 13
  },
  {
   "metadata": {
    "ExecuteTime": {
     "end_time": "2025-04-08T05:07:33.741247Z",
     "start_time": "2025-04-08T05:07:33.737398Z"
    }
   },
   "cell_type": "code",
   "source": "torch.cuda.device_count()",
   "id": "5960aa3cda438269",
   "outputs": [
    {
     "data": {
      "text/plain": [
       "1"
      ]
     },
     "execution_count": 10,
     "metadata": {},
     "output_type": "execute_result"
    }
   ],
   "execution_count": 10
  },
  {
   "metadata": {},
   "cell_type": "markdown",
   "source": "### Moving tensor to GPU (If available)",
   "id": "afc8d913b8004a8d"
  },
  {
   "metadata": {
    "ExecuteTime": {
     "end_time": "2025-04-08T05:07:35.355638Z",
     "start_time": "2025-04-08T05:07:35.352036Z"
    }
   },
   "cell_type": "code",
   "source": [
    "tensor=torch.rand(2,2)\n",
    "tensor,tensor.device"
   ],
   "id": "721a0623b3e2a16e",
   "outputs": [
    {
     "data": {
      "text/plain": [
       "(tensor([[0.9408, 0.1332],\n",
       "         [0.9346, 0.5936]]),\n",
       " device(type='cpu'))"
      ]
     },
     "execution_count": 11,
     "metadata": {},
     "output_type": "execute_result"
    }
   ],
   "execution_count": 11
  },
  {
   "metadata": {
    "ExecuteTime": {
     "end_time": "2025-04-08T05:08:09.014257Z",
     "start_time": "2025-04-08T05:08:06.983693Z"
    }
   },
   "cell_type": "code",
   "source": [
    "tensor=tensor.to(device)\n",
    "tensor,tensor,device"
   ],
   "id": "393192dc59b8a451",
   "outputs": [
    {
     "data": {
      "text/plain": [
       "(tensor([[0.9408, 0.1332],\n",
       "         [0.9346, 0.5936]], device='cuda:0'),\n",
       " tensor([[0.9408, 0.1332],\n",
       "         [0.9346, 0.5936]], device='cuda:0'),\n",
       " 'cuda')"
      ]
     },
     "execution_count": 14,
     "metadata": {},
     "output_type": "execute_result"
    }
   ],
   "execution_count": 14
  }
 ],
 "metadata": {
  "kernelspec": {
   "display_name": "Python 3 (ipykernel)",
   "language": "python",
   "name": "python3"
  },
  "language_info": {
   "codemirror_mode": {
    "name": "ipython",
    "version": 3
   },
   "file_extension": ".py",
   "mimetype": "text/x-python",
   "name": "python",
   "nbconvert_exporter": "python",
   "pygments_lexer": "ipython3",
   "version": "3.13.2"
  }
 },
 "nbformat": 4,
 "nbformat_minor": 5
}
