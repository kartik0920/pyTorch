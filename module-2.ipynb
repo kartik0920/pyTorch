{
 "cells": [
  {
   "metadata": {},
   "cell_type": "markdown",
   "source": "# PyTorch WorkFlow",
   "id": "3d64d5de26fa0f9d"
  },
  {
   "metadata": {},
   "cell_type": "markdown",
   "source": [
    "**WorkFlow**\n",
    "1. Get data\n",
    "2. Build model/ Make a model\n",
    "3. Fit the model\n",
    "4. Evaluate model\n",
    "5. Save and load the model"
   ],
   "id": "954acbdee318b8b3"
  },
  {
   "metadata": {},
   "cell_type": "markdown",
   "source": "## 1 Getting the Data",
   "id": "f427dfb41ff5a9bc"
  },
  {
   "metadata": {},
   "cell_type": "markdown",
   "source": [
    "Data can be of the following types:\n",
    "* Text\n",
    "* Numbers\n",
    "* Images\n",
    "* Audio\n",
    "* Video\n",
    "* Excel\n",
    "* DNA"
   ],
   "id": "8cc6f2fac10fbab"
  },
  {
   "metadata": {},
   "cell_type": "markdown",
   "source": [
    "### Linear Regression model and Collecting data\n",
    "\n",
    "formula for linear Regression :`y=a+bX`\n",
    "\n"
   ],
   "id": "7669334bc56b168c"
  },
  {
   "metadata": {
    "ExecuteTime": {
     "end_time": "2025-04-08T17:55:42.140731Z",
     "start_time": "2025-04-08T17:55:40.729191Z"
    }
   },
   "cell_type": "code",
   "source": [
    "import numpy as np\n",
    "import torch\n",
    "from torch import nn"
   ],
   "id": "c666dcdced69a08f",
   "outputs": [],
   "execution_count": 1
  },
  {
   "metadata": {
    "ExecuteTime": {
     "end_time": "2025-04-08T17:55:42.147785Z",
     "start_time": "2025-04-08T17:55:42.145347Z"
    }
   },
   "cell_type": "code",
   "source": [
    "weight=-0.4\n",
    "bias=3"
   ],
   "id": "c279f906ed1ce2c9",
   "outputs": [],
   "execution_count": 2
  },
  {
   "metadata": {
    "collapsed": true,
    "ExecuteTime": {
     "end_time": "2025-04-08T17:55:42.259155Z",
     "start_time": "2025-04-08T17:55:42.251548Z"
    }
   },
   "cell_type": "code",
   "source": [
    "start=0\n",
    "end=1\n",
    "step=0.02\n",
    "\n",
    "X=torch.arange(start,end,step).unsqueeze(dim=1)\n",
    "y=weight*X+bias\n",
    "X[:10],y[:10]"
   ],
   "id": "initial_id",
   "outputs": [
    {
     "data": {
      "text/plain": [
       "(tensor([[0.0000],\n",
       "         [0.0200],\n",
       "         [0.0400],\n",
       "         [0.0600],\n",
       "         [0.0800],\n",
       "         [0.1000],\n",
       "         [0.1200],\n",
       "         [0.1400],\n",
       "         [0.1600],\n",
       "         [0.1800]]),\n",
       " tensor([[3.0000],\n",
       "         [2.9920],\n",
       "         [2.9840],\n",
       "         [2.9760],\n",
       "         [2.9680],\n",
       "         [2.9600],\n",
       "         [2.9520],\n",
       "         [2.9440],\n",
       "         [2.9360],\n",
       "         [2.9280]]))"
      ]
     },
     "execution_count": 3,
     "metadata": {},
     "output_type": "execute_result"
    }
   ],
   "execution_count": 3
  },
  {
   "metadata": {},
   "cell_type": "markdown",
   "source": "### Splitting data into training and testing",
   "id": "cce6582a87739e92"
  },
  {
   "metadata": {
    "ExecuteTime": {
     "end_time": "2025-04-08T17:55:42.268759Z",
     "start_time": "2025-04-08T17:55:42.266078Z"
    }
   },
   "cell_type": "code",
   "source": [
    "train_split=int(0.8*len(X))\n",
    "X_train,y_train=X[:train_split],y[:train_split]\n",
    "X_test,y_test=X[train_split:],y[train_split:]"
   ],
   "id": "3f9d0a5b1f92e71e",
   "outputs": [],
   "execution_count": 4
  },
  {
   "metadata": {},
   "cell_type": "markdown",
   "source": "### Visualizing the Dataset",
   "id": "dceda832b4d34a27"
  },
  {
   "metadata": {
    "ExecuteTime": {
     "end_time": "2025-04-08T17:55:42.521746Z",
     "start_time": "2025-04-08T17:55:42.276644Z"
    }
   },
   "cell_type": "code",
   "source": "import matplotlib.pyplot as plt",
   "id": "e80d40320b284c99",
   "outputs": [],
   "execution_count": 5
  },
  {
   "metadata": {
    "ExecuteTime": {
     "end_time": "2025-04-08T17:55:42.533571Z",
     "start_time": "2025-04-08T17:55:42.530588Z"
    }
   },
   "cell_type": "code",
   "source": [
    "def plot_predictions(train_data=X_train ,\n",
    "                     train_label=y_train,\n",
    "                     test_data=X_test,\n",
    "                     test_labels=y_test,predictions=None):\n",
    "    plt.figure(figsize=(10,7))\n",
    "\n",
    "    plt.scatter(train_data,train_label,c=\"b\",s=4,label=\"training data\")\n",
    "    plt.scatter(test_data,test_labels,c=\"r\",s=4,label=\"testing data\")\n",
    "\n",
    "    if predictions is not None:\n",
    "        plt.scatter(test_data,predictions,c=\"g\",s=4,label=\"predictions\")\n",
    "\n",
    "    plt.legend(prop={\"size\":14})\n",
    "    plt.show()\n"
   ],
   "id": "dc835aa7279b8574",
   "outputs": [],
   "execution_count": 6
  },
  {
   "metadata": {
    "ExecuteTime": {
     "end_time": "2025-04-08T17:55:42.642820Z",
     "start_time": "2025-04-08T17:55:42.541845Z"
    }
   },
   "cell_type": "code",
   "source": "plot_predictions()",
   "id": "9601fe7bb1a0ccf2",
   "outputs": [
    {
     "data": {
      "text/plain": [
       "<Figure size 1000x700 with 1 Axes>"
      ],
      "image/png": "[encoded data removed]"
     },
     "metadata": {},
     "output_type": "display_data"
    }
   ],
   "execution_count": 7
  },
  {
   "metadata": {},
   "cell_type": "markdown",
   "source": "## Building our own model",
   "id": "79f092b2f12f00aa"
  },
  {
   "metadata": {
    "ExecuteTime": {
     "end_time": "2025-04-08T17:55:42.664250Z",
     "start_time": "2025-04-08T17:55:42.660809Z"
    }
   },
   "cell_type": "code",
   "source": [
    "class LinearRegressionModel(nn.Module):\n",
    "    def __init__(self):\n",
    "        super().__init__()\n",
    "        self.weight=nn.Parameter(torch.randn(1,\n",
    "                                             requires_grad=True,   #requires Gradient\n",
    "                                             dtype=torch.float)    #datatype\n",
    "                                 )\n",
    "        self.bias=nn.Parameter(torch.randn(1,\n",
    "                                           dtype=torch.float,\n",
    "                                           requires_grad=True\n",
    "                                           ) )\n",
    "\n",
    "    def forward(self, x:torch.Tensor)->torch.Tensor:\n",
    "        return self.weight * x + self.bias\n"
   ],
   "id": "1c5e10631b4738b3",
   "outputs": [],
   "execution_count": 8
  },
  {
   "metadata": {},
   "cell_type": "markdown",
   "source": "### Using above class in our code",
   "id": "7e0e0269eca108b0"
  },
  {
   "metadata": {
    "ExecuteTime": {
     "end_time": "2025-04-08T17:55:42.679121Z",
     "start_time": "2025-04-08T17:55:42.671544Z"
    }
   },
   "cell_type": "code",
   "source": [
    "torch.manual_seed(42)\n",
    "model_0=LinearRegressionModel()\n",
    "\n",
    "model_0"
   ],
   "id": "ee4985be2aa02a21",
   "outputs": [
    {
     "data": {
      "text/plain": [
       "LinearRegressionModel()"
      ]
     },
     "execution_count": 9,
     "metadata": {},
     "output_type": "execute_result"
    }
   ],
   "execution_count": 9
  },
  {
   "metadata": {
    "ExecuteTime": {
     "end_time": "2025-04-08T17:55:42.691073Z",
     "start_time": "2025-04-08T17:55:42.687667Z"
    }
   },
   "cell_type": "code",
   "source": "model_0.parameters()",
   "id": "b7fb947af4da3926",
   "outputs": [
    {
     "data": {
      "text/plain": [
       "<generator object Module.parameters at 0x000001862B5F7680>"
      ]
     },
     "execution_count": 10,
     "metadata": {},
     "output_type": "execute_result"
    }
   ],
   "execution_count": 10
  },
  {
   "metadata": {
    "ExecuteTime": {
     "end_time": "2025-04-08T17:55:42.705137Z",
     "start_time": "2025-04-08T17:55:42.701435Z"
    }
   },
   "cell_type": "code",
   "source": "list(model_0.parameters())",
   "id": "7b1d045007f35b68",
   "outputs": [
    {
     "data": {
      "text/plain": [
       "[Parameter containing:\n",
       " tensor([0.3367], requires_grad=True),\n",
       " Parameter containing:\n",
       " tensor([0.1288], requires_grad=True)]"
      ]
     },
     "execution_count": 11,
     "metadata": {},
     "output_type": "execute_result"
    }
   ],
   "execution_count": 11
  },
  {
   "metadata": {
    "ExecuteTime": {
     "end_time": "2025-04-08T17:55:42.719503Z",
     "start_time": "2025-04-08T17:55:42.714844Z"
    }
   },
   "cell_type": "code",
   "source": "model_0.state_dict()",
   "id": "137e05c96de4f8b",
   "outputs": [
    {
     "data": {
      "text/plain": [
       "OrderedDict([('weight', tensor([0.3367])), ('bias', tensor([0.1288]))])"
      ]
     },
     "execution_count": 12,
     "metadata": {},
     "output_type": "execute_result"
    }
   ],
   "execution_count": 12
  },
  {
   "metadata": {
    "ExecuteTime": {
     "end_time": "2025-04-08T17:55:42.733193Z",
     "start_time": "2025-04-08T17:55:42.729108Z"
    }
   },
   "cell_type": "code",
   "source": "weight,bias",
   "id": "5e113f1b273bcffb",
   "outputs": [
    {
     "data": {
      "text/plain": [
       "(-0.4, 3)"
      ]
     },
     "execution_count": 13,
     "metadata": {},
     "output_type": "execute_result"
    }
   ],
   "execution_count": 13
  },
  {
   "metadata": {},
   "cell_type": "markdown",
   "source": "`torch.inference_mode()` use y_test on x_test\n",
   "id": "77a648ae4097801f"
  },
  {
   "metadata": {
    "ExecuteTime": {
     "end_time": "2025-04-08T17:55:42.746321Z",
     "start_time": "2025-04-08T17:55:42.742423Z"
    }
   },
   "cell_type": "code",
   "source": [
    "with torch.inference_mode():\n",
    "    y_preds=model_0.forward(X_test)\n",
    "\n",
    "y_preds"
   ],
   "id": "c5625d6ea5b62f60",
   "outputs": [
    {
     "data": {
      "text/plain": [
       "tensor([[0.3982],\n",
       "        [0.4049],\n",
       "        [0.4116],\n",
       "        [0.4184],\n",
       "        [0.4251],\n",
       "        [0.4318],\n",
       "        [0.4386],\n",
       "        [0.4453],\n",
       "        [0.4520],\n",
       "        [0.4588]])"
      ]
     },
     "execution_count": 14,
     "metadata": {},
     "output_type": "execute_result"
    }
   ],
   "execution_count": 14
  },
  {
   "metadata": {
    "ExecuteTime": {
     "end_time": "2025-04-08T17:55:42.838364Z",
     "start_time": "2025-04-08T17:55:42.755987Z"
    }
   },
   "cell_type": "code",
   "source": "plot_predictions(predictions=y_preds)",
   "id": "b3ecdb2dada139ee",
   "outputs": [
    {
     "data": {
      "text/plain": [
       "<Figure size 1000x700 with 1 Axes>"
      ],
      "image/png": "[encoded data removed]"
     },
     "metadata": {},
     "output_type": "display_data"
    }
   ],
   "execution_count": 15
  },
  {
   "metadata": {},
   "cell_type": "markdown",
   "source": "## Training the model",
   "id": "7e08908c64491552"
  },
  {
   "metadata": {
    "ExecuteTime": {
     "end_time": "2025-04-08T17:55:44.061151Z",
     "start_time": "2025-04-08T17:55:43.045108Z"
    }
   },
   "cell_type": "code",
   "source": [
    "#generating loss function\n",
    "loss_fn=nn.L1Loss()\n",
    "#generating optimizer\n",
    "optimizer=torch.optim.SGD(model_0.parameters(),\n",
    "                          lr=0.01\n",
    "                          )"
   ],
   "id": "7db64eba4a94b2f5",
   "outputs": [],
   "execution_count": 16
  },
  {
   "metadata": {
    "ExecuteTime": {
     "end_time": "2025-04-08T17:55:44.994789Z",
     "start_time": "2025-04-08T17:55:44.087622Z"
    }
   },
   "cell_type": "code",
   "source": [
    "epochs=2000\n",
    "torch.manual_seed(42)\n",
    "loss_values=[]\n",
    "test_loss_values=[]\n",
    "epoch_count=[]\n",
    "for epoch in range(epochs):\n",
    "    model_0.train()         #set model to train\n",
    "\n",
    "    #1. forward pass\n",
    "    y_pred=model_0(X_train)\n",
    "\n",
    "    #2. calculate loss\n",
    "    loss=loss_fn(y_pred,y_train)\n",
    "    # print(f\"loss :{loss}\")\n",
    "\n",
    "    #3. optimizer\n",
    "    optimizer.zero_grad()\n",
    "\n",
    "    #4. perform back_propagataion\n",
    "    loss.backward()\n",
    "\n",
    "    #5. step the optimizer\n",
    "    optimizer.step()\n",
    "\n",
    "\n",
    "    model_0.eval()          #set model to turn off gradients\n",
    "\n",
    "\n",
    "    with torch.inference_mode():\n",
    "        test_pred=model_0.forward(X_test)\n",
    "        test_loss=loss_fn(test_pred,y_test)\n",
    "\n",
    "    if(epoch%10==0):\n",
    "        epoch_count.append(epoch)\n",
    "        loss_values.append(loss)\n",
    "        test_loss_values.append(test_loss)\n",
    "\n",
    "\n"
   ],
   "id": "1e811cac9d477f5d",
   "outputs": [],
   "execution_count": 17
  },
  {
   "metadata": {
    "ExecuteTime": {
     "end_time": "2025-04-08T17:55:45.003579Z",
     "start_time": "2025-04-08T17:55:44.998817Z"
    }
   },
   "cell_type": "code",
   "source": [
    "with torch.inference_mode():\n",
    "    y_preds=model_0.forward(X_test)\n",
    "y_preds,loss_fn(y_test,y_preds)"
   ],
   "id": "80d08f0c2e34fe5e",
   "outputs": [
    {
     "data": {
      "text/plain": [
       "(tensor([[2.6848],\n",
       "         [2.6769],\n",
       "         [2.6690],\n",
       "         [2.6611],\n",
       "         [2.6532],\n",
       "         [2.6453],\n",
       "         [2.6374],\n",
       "         [2.6295],\n",
       "         [2.6216],\n",
       "         [2.6138]]),\n",
       " tensor(0.0053))"
      ]
     },
     "execution_count": 18,
     "metadata": {},
     "output_type": "execute_result"
    }
   ],
   "execution_count": 18
  },
  {
   "metadata": {
    "ExecuteTime": {
     "end_time": "2025-04-08T17:55:45.110573Z",
     "start_time": "2025-04-08T17:55:45.023064Z"
    }
   },
   "cell_type": "code",
   "source": "plot_predictions(predictions=y_preds)",
   "id": "52d01d7f4357689f",
   "outputs": [
    {
     "data": {
      "text/plain": [
       "<Figure size 1000x700 with 1 Axes>"
      ],
      "image/png": "[encoded data removed]"
     },
     "metadata": {},
     "output_type": "display_data"
    }
   ],
   "execution_count": 19
  },
  {
   "metadata": {},
   "cell_type": "markdown",
   "source": "",
   "id": "75f15bddccc87e1"
  },
  {
   "metadata": {
    "ExecuteTime": {
     "end_time": "2025-04-08T17:55:45.136587Z",
     "start_time": "2025-04-08T17:55:45.130845Z"
    }
   },
   "cell_type": "code",
   "source": [
    "test_loss_values=np.array(test_loss_values)\n",
    "loss_values=np.array(torch.tensor(loss_values))\n",
    "test_loss_values"
   ],
   "id": "5ee5c4388115ae9",
   "outputs": [
    {
     "name": "stderr",
     "output_type": "stream",
     "text": [
      "C:\\Users\\karti\\AppData\\Local\\Temp\\ipykernel_16732\\2514316249.py:2: DeprecationWarning: __array__ implementation doesn't accept a copy keyword, so passing copy=False failed. __array__ must implement 'dtype' and 'copy' keyword arguments. To learn more, see the migration guide https://numpy.org/devdocs/numpy_2_0_migration_guide.html#adapting-to-changes-in-the-copy-keyword\n",
      "  loss_values=np.array(torch.tensor(loss_values))\n"
     ]
    },
    {
     "data": {
      "text/plain": [
       "array([2.2020652e+00, 2.0673552e+00, 1.9326452e+00, 1.7979355e+00,\n",
       "       1.6632258e+00, 1.5285157e+00, 1.3938060e+00, 1.2590961e+00,\n",
       "       1.1243862e+00, 9.8967648e-01, 8.5496652e-01, 7.2025681e-01,\n",
       "       5.8554685e-01, 4.5083714e-01, 3.1612724e-01, 1.8141739e-01,\n",
       "       7.5995758e-02, 9.7716190e-02, 2.1764752e-01, 3.1742054e-01,\n",
       "       3.9472932e-01, 4.5411292e-01, 5.0055420e-01, 5.3578389e-01,\n",
       "       5.6292415e-01, 5.8352667e-01, 6.0051697e-01, 6.1037195e-01,\n",
       "       6.1952204e-01, 6.2232840e-01, 6.2513465e-01, 6.2794077e-01,\n",
       "       6.2448478e-01, 6.2033290e-01, 6.1618108e-01, 6.1202919e-01,\n",
       "       6.0787743e-01, 6.0372555e-01, 5.9957373e-01, 5.9542185e-01,\n",
       "       5.8920944e-01, 5.8093649e-01, 5.7266349e-01, 5.6507742e-01,\n",
       "       5.5680448e-01, 5.4921836e-01, 5.4094541e-01, 5.3267246e-01,\n",
       "       5.2508640e-01, 5.1681340e-01, 5.0854045e-01, 5.0095427e-01,\n",
       "       4.9268135e-01, 4.8440832e-01, 4.7682229e-01, 4.6854931e-01,\n",
       "       4.6027637e-01, 4.5269021e-01, 4.4441730e-01, 4.3614435e-01,\n",
       "       4.2855826e-01, 4.2028528e-01, 4.1269913e-01, 4.0442619e-01,\n",
       "       3.9615324e-01, 3.8856715e-01, 3.8029417e-01, 3.7202123e-01,\n",
       "       3.6443514e-01, 3.5616216e-01, 3.4788916e-01, 3.4030306e-01,\n",
       "       3.3203012e-01, 3.2375717e-01, 3.1617099e-01, 3.0789810e-01,\n",
       "       2.9962510e-01, 2.9203916e-01, 2.8376621e-01, 2.7618021e-01,\n",
       "       2.6790729e-01, 2.5963435e-01, 2.5204837e-01, 2.4377544e-01,\n",
       "       2.3550256e-01, 2.2791648e-01, 2.1964359e-01, 2.1137068e-01,\n",
       "       2.0378463e-01, 1.9551173e-01, 1.8723881e-01, 1.7965277e-01,\n",
       "       1.7137983e-01, 1.6310696e-01, 1.5552092e-01, 1.4724800e-01,\n",
       "       1.3931866e-01, 1.3104570e-01, 1.2345970e-01, 1.1518679e-01,\n",
       "       1.0691388e-01, 9.9327847e-02, 9.1054939e-02, 8.3468892e-02,\n",
       "       7.5195983e-02, 6.6923067e-02, 5.9336923e-02, 5.1064014e-02,\n",
       "       4.2791031e-02, 3.5204936e-02, 2.6931977e-02, 1.8659044e-02,\n",
       "       1.1072898e-02, 2.1219491e-03, 8.1960913e-03, 8.1960913e-03,\n",
       "       8.1960913e-03, 8.1960913e-03, 8.1960913e-03, 8.1960913e-03,\n",
       "       8.1960913e-03, 8.1960913e-03, 8.1960913e-03, 8.1960913e-03,\n",
       "       8.1960913e-03, 8.1960913e-03, 8.1960913e-03, 8.1960913e-03,\n",
       "       8.1960913e-03, 8.1960913e-03, 8.1960913e-03, 8.1960913e-03,\n",
       "       8.1960913e-03, 8.1960913e-03, 8.1960913e-03, 8.1960913e-03,\n",
       "       8.1960913e-03, 8.1960913e-03, 8.1960913e-03, 8.1960913e-03,\n",
       "       8.1960913e-03, 8.1960913e-03, 8.1960913e-03, 8.1960913e-03,\n",
       "       8.1960913e-03, 8.1960913e-03, 8.1960913e-03, 8.1960913e-03,\n",
       "       8.1960913e-03, 8.1960913e-03, 8.1960913e-03, 8.1960913e-03,\n",
       "       8.1960913e-03, 8.1960913e-03, 8.1960913e-03, 8.1960913e-03,\n",
       "       8.1960913e-03, 8.1960913e-03, 8.1960913e-03, 8.1960913e-03,\n",
       "       8.1960913e-03, 8.1960913e-03, 8.1960913e-03, 8.1960913e-03,\n",
       "       8.1960913e-03, 8.1960913e-03, 8.1960913e-03, 8.1960913e-03,\n",
       "       8.1960913e-03, 8.1960913e-03, 8.1960913e-03, 8.1960913e-03,\n",
       "       8.1960913e-03, 8.1960913e-03, 8.1960913e-03, 8.1960913e-03,\n",
       "       8.1960913e-03, 8.1960913e-03, 8.1960913e-03, 8.1960913e-03,\n",
       "       8.1960913e-03, 8.1960913e-03, 8.1960913e-03, 8.1960913e-03,\n",
       "       8.1960913e-03, 8.1960913e-03, 8.1960913e-03, 8.1960913e-03,\n",
       "       8.1960913e-03, 8.1960913e-03, 8.1960913e-03, 8.1960913e-03,\n",
       "       8.1960913e-03, 8.1960913e-03, 8.1960913e-03, 8.1960913e-03,\n",
       "       8.1960913e-03, 8.1960913e-03, 8.1960913e-03, 8.1960913e-03],\n",
       "      dtype=float32)"
      ]
     },
     "execution_count": 20,
     "metadata": {},
     "output_type": "execute_result"
    }
   ],
   "execution_count": 20
  },
  {
   "metadata": {
    "ExecuteTime": {
     "end_time": "2025-04-08T17:55:45.223681Z",
     "start_time": "2025-04-08T17:55:45.150205Z"
    }
   },
   "cell_type": "code",
   "source": [
    "plt.plot(epoch_count,test_loss_values,label=\"train loss\")\n",
    "plt.plot(epoch_count,loss_values,label=\"test loss\")\n",
    "plt.title(\"Trainning and test loss curve\")\n",
    "plt.ylabel(\"loss\")\n",
    "plt.xlabel(\"epoch\")\n",
    "plt.legend()\n",
    "plt.show()"
   ],
   "id": "85d3ee8b0bb97df5",
   "outputs": [
    {
     "data": {
      "text/plain": [
       "<Figure size 640x480 with 1 Axes>"
      ],
      "image/png": "[encoded data removed]"
     },
     "metadata": {},
     "output_type": "display_data"
    }
   ],
   "execution_count": 21
  },
  {
   "metadata": {
    "ExecuteTime": {
     "end_time": "2025-04-08T17:55:45.241064Z",
     "start_time": "2025-04-08T17:55:45.236680Z"
    }
   },
   "cell_type": "code",
   "source": "test_loss_values[-1:]",
   "id": "8bcda2a8042bcf1a",
   "outputs": [
    {
     "data": {
      "text/plain": [
       "array([0.00819609], dtype=float32)"
      ]
     },
     "execution_count": 22,
     "metadata": {},
     "output_type": "execute_result"
    }
   ],
   "execution_count": 22
  },
  {
   "metadata": {},
   "cell_type": "markdown",
   "source": "## Exporting the model and loading it",
   "id": "c3d319f401913bf7"
  },
  {
   "metadata": {},
   "cell_type": "markdown",
   "source": "### Saving the model",
   "id": "eaf370b1ce6b236a"
  },
  {
   "metadata": {},
   "cell_type": "markdown",
   "source": [
    "* `torch.save()` allows you to save in python pkl\n",
    "* `torch.load()` allows you to load model\n",
    "* `torch.nn.Module.load_state_dict()` allows to load model from state dict dictionoary"
   ],
   "id": "5d2b37256976e31c"
  },
  {
   "metadata": {
    "ExecuteTime": {
     "end_time": "2025-04-08T18:15:02.495701Z",
     "start_time": "2025-04-08T18:15:02.491678Z"
    }
   },
   "cell_type": "code",
   "source": [
    "from pathlib import Path\n",
    "\n",
    "#1. Create a directory\n",
    "MODEL_PATH=Path(\"models\")\n",
    "MODEL_PATH.mkdir(parents=True,exist_ok=True)\n",
    "\n",
    "#2 create model to save path\n",
    "MODEL_NAME = \"LinearRegressionModel.pth\"\n",
    "MODEL_SAVE_PATH=MODEL_PATH/MODEL_NAME\n",
    "\n",
    "#3 Save the model and load\n",
    "print(f\"Saving model to {MODEL_SAVE_PATH}\")\n",
    "torch.save(obj=model_0.state_dict(),f=MODEL_SAVE_PATH)\n",
    "print(f\"Done!!!!\")"
   ],
   "id": "f16ebf19c25ff46b",
   "outputs": [
    {
     "name": "stdout",
     "output_type": "stream",
     "text": [
      "Saving model to models\\LinearRegressionModel.pth\n",
      "Done!!!!\n"
     ]
    }
   ],
   "execution_count": 32
  },
  {
   "metadata": {},
   "cell_type": "markdown",
   "source": "### Loading the model",
   "id": "af4e4c3d89920507"
  },
  {
   "metadata": {
    "ExecuteTime": {
     "end_time": "2025-04-08T18:15:23.682386Z",
     "start_time": "2025-04-08T18:15:23.675963Z"
    }
   },
   "cell_type": "code",
   "source": [
    "Loaded_model_0=LinearRegressionModel()\n",
    "\n",
    "#loading the state\n",
    "Loaded_model_0.load_state_dict(torch.load(MODEL_SAVE_PATH))\n",
    "Loaded_model_0.state_dict()"
   ],
   "id": "b3ba7b8d528e1a1a",
   "outputs": [
    {
     "data": {
      "text/plain": [
       "OrderedDict([('weight', tensor([-0.3946])), ('bias', tensor([3.0005]))])"
      ]
     },
     "execution_count": 36,
     "metadata": {},
     "output_type": "execute_result"
    }
   ],
   "execution_count": 36
  }
 ],
 "metadata": {
  "kernelspec": {
   "display_name": "Python 3",
   "language": "python",
   "name": "python3"
  },
  "language_info": {
   "codemirror_mode": {
    "name": "ipython",
    "version": 2
   },
   "file_extension": ".py",
   "mimetype": "text/x-python",
   "name": "python",
   "nbconvert_exporter": "python",
   "pygments_lexer": "ipython2",
   "version": "2.7.6"
  }
 },
 "nbformat": 4,
 "nbformat_minor": 5
}
